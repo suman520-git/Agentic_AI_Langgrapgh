{
 "cells": [
  {
   "cell_type": "markdown",
   "id": "a45a5045",
   "metadata": {},
   "source": [
    "\n",
    "Step 1: Setting Up Dependencies and Model"
   ]
  },
  {
   "cell_type": "code",
   "execution_count": 103,
   "id": "59f1c4fb",
   "metadata": {},
   "outputs": [],
   "source": [
    "import os\n",
    "from dotenv import load_dotenv\n",
    "load_dotenv()\n",
    "from langchain_groq import ChatGroq\n",
    "os.environ[\"GROQ_API_KEY\"]=os.getenv(\"GROQ_API_KEY\")"
   ]
  },
  {
   "cell_type": "code",
   "execution_count": 104,
   "id": "f9d81f89",
   "metadata": {},
   "outputs": [
    {
     "data": {
      "text/plain": [
       "AIMessage(content='Hey there! 👋  What can I do for you today?\\n', additional_kwargs={}, response_metadata={'token_usage': {'completion_tokens': 16, 'prompt_tokens': 11, 'total_tokens': 27, 'completion_time': 0.029090909, 'prompt_time': 0.00117287, 'queue_time': 0.251841176, 'total_time': 0.030263779}, 'model_name': 'gemma2-9b-it', 'system_fingerprint': 'fp_10c08bf97d', 'service_tier': 'on_demand', 'finish_reason': 'stop', 'logprobs': None}, id='run--9edbeb33-06cc-4ff5-a770-83b9d2b9bd53-0', usage_metadata={'input_tokens': 11, 'output_tokens': 16, 'total_tokens': 27})"
      ]
     },
     "execution_count": 104,
     "metadata": {},
     "output_type": "execute_result"
    }
   ],
   "source": [
    "import json\n",
    "from typing import List, Dict, Any\n",
    "from typing_extensions import TypedDict\n",
    "from langgraph.graph import StateGraph, START, END\n",
    "\n",
    "from pydantic import BaseModel, Field\n",
    "from langchain_core.messages import HumanMessage, SystemMessage\n",
    "import asyncio\n",
    "from datetime import datetime\n",
    "from typing import Annotated ,List\n",
    "# Initialize the language model\n",
    "travel_planner_llm = ChatGroq(model=\"gemma2-9b-it\")\n",
    "\n",
    "travel_planner_llm.invoke(\"hey!\")"
   ]
  },
  {
   "cell_type": "markdown",
   "id": "bffbcde5",
   "metadata": {},
   "source": [
    "Step 2. Defining Task Structure with Pydantic Models"
   ]
  },
  {
   "cell_type": "code",
   "execution_count": 105,
   "id": "5f852fb5",
   "metadata": {},
   "outputs": [],
   "source": [
    "# Define the task structure for dynamic delegation\n",
    "class TravelTask(BaseModel):\n",
    "    \"\"\"Structure for individual travel planning tasks\"\"\"\n",
    "    task_id: str = Field(description=\"Unique identifier for the task\")\n",
    "    task_type: str = Field(description=\"Type of travel planning task\")\n",
    "    task_description: str = Field(description=\"Detailed description of what needs to be done\")\n",
    "    priority: int = Field(description=\"Task priority (1-5, where 5 is highest)\")\n",
    "    required_context: List[str] = Field(description=\"Context needed from original request\")\n",
    "\n",
    "class TaskPlan(BaseModel):\n",
    "    \"\"\"Complete task breakdown from orchestrator\"\"\"\n",
    "    tasks: List[TravelTask] = Field(description=\"List of travel planning tasks\")\n",
    "    estimated_duration: str = Field(description=\"Estimated time to complete all tasks\")\n",
    "    special_requirements: List[str] = Field(description=\"Any special considerations\")\n",
    "\n",
    "# Create structured orchestrator\n",
    "task_orchestrator = travel_planner_llm.with_structured_output(TaskPlan)"
   ]
  },
  {
   "cell_type": "markdown",
   "id": "56d9355a",
   "metadata": {},
   "source": [
    "Step 3 Implementing State Reducer Functions"
   ]
  },
  {
   "cell_type": "code",
   "execution_count": 106,
   "id": "f0c55bd9",
   "metadata": {},
   "outputs": [],
   "source": [
    "# Define reducer functions for concurrent updates\n",
    "def merge_worker_results(current: Dict[str, str], new: Dict[str, str]) -> Dict[str, str]:\n",
    "    \"\"\"Merge worker results from multiple concurrent workers\"\"\"\n",
    "    if current is None:\n",
    "        current = {}\n",
    "    current.update(new)\n",
    "    return current\n",
    "\n",
    "def merge_execution_metadata(current: Dict[str, Any], new: Dict[str, Any]) -> Dict[str, Any]:\n",
    "    \"\"\"Merge execution metadata from multiple concurrent workers\"\"\"\n",
    "    if current is None:\n",
    "        current = {}\n",
    "    \n",
    "    # Merge workers_executed lists\n",
    "    current_workers = current.get('workers_executed', [])\n",
    "    new_workers = new.get('workers_executed', [])\n",
    "    \n",
    "    merged_metadata = current.copy()\n",
    "    merged_metadata.update(new)\n",
    "    \n",
    "    # Combine worker lists without duplicates\n",
    "    all_workers = list(set(current_workers + new_workers))\n",
    "    merged_metadata['workers_executed'] = all_workers\n",
    "    \n",
    "    return merged_metadata"
   ]
  },
  {
   "cell_type": "markdown",
   "id": "48ba9ce2",
   "metadata": {},
   "source": [
    "Step 4: Defining the Workflow State Schema"
   ]
  },
  {
   "cell_type": "code",
   "execution_count": 107,
   "id": "1b03b3ab",
   "metadata": {},
   "outputs": [],
   "source": [
    "# Define workflow state with proper annotations for concurrent updates\n",
    "class TravelPlanningState(TypedDict):\n",
    "    original_request: str                                      # User's travel request\n",
    "    task_breakdown: Dict[str, Any]                            # Orchestrator's task analysis\n",
    "    accommodation_result: str                                 # Accommodation worker result\n",
    "    activities_result: str                                    # Activities worker result\n",
    "    dining_result: str                                        # Dining worker result\n",
    "    transportation_result: str                                # Transportation worker result\n",
    "    worker_results: Annotated[Dict[str, str], merge_worker_results]  # Combined worker results with reducer\n",
    "    final_itinerary: str                                      # Synthesized travel plan\n",
    "    execution_metadata: Annotated[Dict[str, Any], merge_execution_metadata]  # Processing information with reducer"
   ]
  },
  {
   "cell_type": "markdown",
   "id": "0a4bbaed",
   "metadata": {},
   "source": [
    "Step 5. Building the Orchestrator Function: The Master Planner"
   ]
  },
  {
   "cell_type": "code",
   "execution_count": 108,
   "id": "c2454914",
   "metadata": {},
   "outputs": [],
   "source": [
    "def orchestrate_travel_planning(state: TravelPlanningState):\n",
    "    \"\"\"\n",
    "    Orchestrator: Analyzes travel request and creates dynamic task breakdown\n",
    "    \"\"\"\n",
    "    orchestrator_prompt = [\n",
    "        SystemMessage(\n",
    "            content=\"\"\"You are a master travel planning orchestrator. Your job is to analyze \n",
    "            travel requests and break them down into specific, actionable tasks for specialist workers.\n",
    "            \n",
    "            Common travel planning tasks include:\n",
    "            - accommodation_research: Find suitable hotels/lodging\n",
    "            - activity_planning: Research attractions and experiences\n",
    "            - dining_recommendations: Find restaurants and food experiences\n",
    "            - transportation_planning: Plan getting around and between locations\n",
    "            - budget_optimization: Ensure recommendations fit within budget\n",
    "            - cultural_insights: Provide local customs and cultural information\n",
    "            \n",
    "            Consider the user's specific needs, timeline, budget, and preferences when creating tasks.\n",
    "            Each task should be focused and actionable for a specialist worker.\"\"\"\n",
    "        ),\n",
    "        HumanMessage(content=f\"Plan travel tasks for: {state['original_request']}\")\n",
    "    ]\n",
    "    \n",
    "    # Get structured task breakdown\n",
    "    task_plan = task_orchestrator.invoke(orchestrator_prompt)\n",
    "    \n",
    "    # Convert to dictionary for easier processing\n",
    "    task_breakdown = {\n",
    "        \"tasks\": [task.model_dump() for task in task_plan.tasks],\n",
    "        \"estimated_duration\": task_plan.estimated_duration,\n",
    "        \"special_requirements\": task_plan.special_requirements,\n",
    "        \"total_tasks\": len(task_plan.tasks)\n",
    "    }\n",
    "    \n",
    "    return {\n",
    "        \"task_breakdown\": task_breakdown,\n",
    "        \"worker_results\": {},  # Initialize worker results\n",
    "        \"execution_metadata\": {\n",
    "            \"orchestration_timestamp\": datetime.now().isoformat(),\n",
    "            \"task_count\": len(task_plan.tasks),\n",
    "            \"workers_executed\": []  # Track executed workers\n",
    "        }\n",
    "    }"
   ]
  },
  {
   "cell_type": "markdown",
   "id": "d7772636",
   "metadata": {},
   "source": [
    "Step 6. The Workers: Specialized Experts"
   ]
  },
  {
   "cell_type": "code",
   "execution_count": 109,
   "id": "c75a1312",
   "metadata": {},
   "outputs": [],
   "source": [
    "request=\"Plan a 5-day romantic getaway to Paris for two people, budget $3000, interested in art and fine dining\""
   ]
  },
  {
   "cell_type": "code",
   "execution_count": 110,
   "id": "429c802b",
   "metadata": {},
   "outputs": [],
   "source": [
    "state={'original_request':\"Plan a 5-day romantic getaway to Paris for two people, budget $3000, interested in art and fine dining\"}"
   ]
  },
  {
   "cell_type": "markdown",
   "id": "4430cb9a",
   "metadata": {},
   "source": [
    "Step 6. The Workers: Specialized Experts"
   ]
  },
  {
   "cell_type": "code",
   "execution_count": 111,
   "id": "57a1f808",
   "metadata": {},
   "outputs": [],
   "source": [
    "def accommodation_worker(state: TravelPlanningState):\n",
    "    \"\"\"Worker: Specializes in finding accommodation options\"\"\"\n",
    "    original_request = state['original_request']\n",
    "    \n",
    "    accommodation_prompt = f\"\"\"\n",
    "    You are an accommodation specialist. Based on this travel request: \"{original_request}\"\n",
    "    \n",
    "    Provide specific accommodation recommendations including:\n",
    "    - Hotel/lodging names and types\n",
    "    - Price ranges and booking considerations\n",
    "    - Location advantages and proximity to attractions\n",
    "    - Unique features or amenities\n",
    "    \n",
    "    Focus only on accommodation. Be specific and practical.\n",
    "    \"\"\"\n",
    "    \n",
    "    result = travel_planner_llm.invoke(accommodation_prompt)\n",
    "    \n",
    "    # Return updates for concurrent processing\n",
    "    return {\n",
    "        \"accommodation_result\": result.content,\n",
    "        \"worker_results\": {\"accommodation\": result.content},\n",
    "        \"execution_metadata\": {\n",
    "            \"workers_executed\": [\"accommodation_worker\"]\n",
    "        }\n",
    "    }\n",
    "\n",
    "def activity_worker(state: TravelPlanningState):\n",
    "    \"\"\"Worker: Specializes in activity and attraction planning\"\"\"\n",
    "    original_request = state['original_request']\n",
    "    \n",
    "    activity_prompt = f\"\"\"\n",
    "    You are an activities and attractions specialist. Based on this travel request: \"{original_request}\"\n",
    "    \n",
    "    Recommend specific activities, attractions, and experiences:\n",
    "    - Must-see attractions and their best visiting times\n",
    "    - Unique local experiences and cultural activities\n",
    "    - Outdoor activities and adventure options\n",
    "    - Seasonal considerations and timing\n",
    "    \n",
    "    Focus only on activities and attractions. Provide actionable suggestions.\n",
    "    \"\"\"\n",
    "    \n",
    "    result = travel_planner_llm.invoke(activity_prompt)\n",
    "    \n",
    "    # Return updates for concurrent processing\n",
    "    return {\n",
    "        \"activities_result\": result.content,\n",
    "        \"worker_results\": {\"activities\": result.content},\n",
    "        \"execution_metadata\": {\n",
    "            \"workers_executed\": [\"activity_worker\"]\n",
    "        }\n",
    "    }\n",
    "\n",
    "def dining_worker(state: TravelPlanningState):\n",
    "    \"\"\"Worker: Specializes in dining and food experiences\"\"\"\n",
    "    original_request = state['original_request']\n",
    "    \n",
    "    dining_prompt = f\"\"\"\n",
    "    You are a dining and food experience specialist. Based on this travel request: \"{original_request}\"\n",
    "    \n",
    "    Recommend dining options and food experiences:\n",
    "    - Local cuisine specialties and where to find them\n",
    "    - Restaurant recommendations across different price ranges\n",
    "    - Food markets, street food, and casual dining\n",
    "    - Unique culinary experiences and food tours\n",
    "    \n",
    "    Focus only on food and dining. Be specific about locations and experiences.\n",
    "    \"\"\"\n",
    "    \n",
    "    result = travel_planner_llm.invoke(dining_prompt)\n",
    "    \n",
    "    # Return updates for concurrent processing\n",
    "    return {\n",
    "        \"dining_result\": result.content,\n",
    "        \"worker_results\": {\"dining\": result.content},\n",
    "        \"execution_metadata\": {\n",
    "            \"workers_executed\": [\"dining_worker\"]\n",
    "        }\n",
    "    }\n",
    "\n",
    "def transportation_worker(state: TravelPlanningState):\n",
    "    \"\"\"Worker: Specializes in transportation planning\"\"\"\n",
    "    original_request = state['original_request']\n",
    "    \n",
    "    transportation_prompt = f\"\"\"\n",
    "    You are a transportation specialist. Based on this travel request: \"{original_request}\"\n",
    "    \n",
    "    Provide transportation guidance:\n",
    "    - Best ways to get around the destination\n",
    "    - Public transportation options and costs\n",
    "    - Car rental considerations and parking\n",
    "    - Airport transfers and intercity travel\n",
    "    - Walking and cycling options\n",
    "    \n",
    "    Focus only on transportation. Provide practical, cost-effective options.\n",
    "    \"\"\"\n",
    "    \n",
    "    result = travel_planner_llm.invoke(transportation_prompt)\n",
    "    \n",
    "    # Return updates for concurrent processing\n",
    "    return {\n",
    "        \"transportation_result\": result.content,\n",
    "        \"worker_results\": {\"transportation\": result.content},\n",
    "        \"execution_metadata\": {\n",
    "            \"workers_executed\": [\"transportation_worker\"]\n",
    "        }\n",
    "    }"
   ]
  },
  {
   "cell_type": "markdown",
   "id": "7056276b",
   "metadata": {},
   "source": [
    "Step 7. The Synthesizer: Bringing It All Together"
   ]
  },
  {
   "cell_type": "code",
   "execution_count": 112,
   "id": "26c8b37d",
   "metadata": {},
   "outputs": [],
   "source": [
    "def synthesize_travel_plan(state: TravelPlanningState):\n",
    "    \"\"\"\n",
    "    Synthesizer: Combines all worker outputs into a cohesive travel itinerary\n",
    "    \"\"\"\n",
    "    worker_results = state.get('worker_results', {})\n",
    "    original_request = state['original_request']\n",
    "    task_info = state.get('task_breakdown', {})\n",
    "    \n",
    "    # Prepare synthesis prompt with all worker outputs\n",
    "    synthesis_prompt = f\"\"\"\n",
    "    Create a comprehensive, well-organized travel itinerary based on the original request: \"{original_request}\"\n",
    "    \n",
    "    Use the following specialist recommendations:\n",
    "    \n",
    "    ACCOMMODATION RECOMMENDATIONS:\n",
    "    {worker_results.get('accommodation', 'Not available')}\n",
    "    \n",
    "    ACTIVITIES & ATTRACTIONS:\n",
    "    {worker_results.get('activities', 'Not available')}\n",
    "    \n",
    "    DINING RECOMMENDATIONS:\n",
    "    {worker_results.get('dining', 'Not available')}\n",
    "    \n",
    "    TRANSPORTATION GUIDANCE:\n",
    "    {worker_results.get('transportation', 'Not available')}\n",
    "    \n",
    "    Create a cohesive, day-by-day itinerary that:\n",
    "    - Logically organizes activities by location and timing\n",
    "    - Integrates accommodation, dining, and transportation\n",
    "    - Provides practical tips and considerations\n",
    "    - Maintains a natural, engaging narrative flow\n",
    "    - Includes estimated costs and time requirements\n",
    "    \n",
    "    Format as a complete travel guide that someone could actually follow.\n",
    "    \"\"\"\n",
    "    \n",
    "    result = travel_planner_llm.invoke(synthesis_prompt)\n",
    "    \n",
    "    # Return final updates\n",
    "    return {\n",
    "        \"final_itinerary\": result.content,\n",
    "        \"execution_metadata\": {\n",
    "            \"synthesis_timestamp\": datetime.now().isoformat(),\n",
    "            \"total_workers_executed\": len(state.get('execution_metadata', {}).get('workers_executed', []))\n",
    "        }\n",
    "    }"
   ]
  },
  {
   "cell_type": "markdown",
   "id": "8b53b225",
   "metadata": {},
   "source": [
    "Step 8. The Workflow: Orchestrating the Orchestra"
   ]
  },
  {
   "cell_type": "code",
   "execution_count": 113,
   "id": "65295e82",
   "metadata": {},
   "outputs": [],
   "source": [
    "# Build the orchestrator-workers workflow\n",
    "travel_workflow = StateGraph(TravelPlanningState)\n",
    "\n",
    "# Add all nodes\n",
    "travel_workflow.add_node(\"orchestrator\", orchestrate_travel_planning)\n",
    "travel_workflow.add_node(\"accommodation_worker\", accommodation_worker)\n",
    "travel_workflow.add_node(\"activity_worker\", activity_worker)\n",
    "travel_workflow.add_node(\"dining_worker\", dining_worker)\n",
    "travel_workflow.add_node(\"transportation_worker\", transportation_worker)\n",
    "travel_workflow.add_node(\"synthesizer\", synthesize_travel_plan)\n",
    "\n",
    "# Define workflow edges\n",
    "travel_workflow.add_edge(START, \"orchestrator\")\n",
    "\n",
    "# Parallel execution of workers after orchestration\n",
    "travel_workflow.add_edge(\"orchestrator\", \"accommodation_worker\")\n",
    "travel_workflow.add_edge(\"orchestrator\", \"activity_worker\")\n",
    "travel_workflow.add_edge(\"orchestrator\", \"dining_worker\")\n",
    "travel_workflow.add_edge(\"orchestrator\", \"transportation_worker\")\n",
    "\n",
    "# All workers feed into synthesizer\n",
    "travel_workflow.add_edge(\"accommodation_worker\", \"synthesizer\")\n",
    "travel_workflow.add_edge(\"activity_worker\", \"synthesizer\")\n",
    "travel_workflow.add_edge(\"dining_worker\", \"synthesizer\")\n",
    "travel_workflow.add_edge(\"transportation_worker\", \"synthesizer\")\n",
    "\n",
    "# Synthesizer completes the workflow\n",
    "travel_workflow.add_edge(\"synthesizer\", END)\n",
    "\n",
    "# Compile the workflow\n",
    "compiled_travel_workflow = travel_workflow.compile()"
   ]
  },
  {
   "cell_type": "code",
   "execution_count": 114,
   "id": "b2857ba3",
   "metadata": {},
   "outputs": [
    {
     "data": {
      "image/png": "[encoded data removed]",
      "text/plain": [
       "<IPython.core.display.Image object>"
      ]
     },
     "metadata": {},
     "output_type": "display_data"
    }
   ],
   "source": [
    "from IPython.display import Image, display\n",
    "from langchain_core.runnables.graph import MermaidDrawMethod\n",
    "\n",
    "display(\n",
    "    Image(\n",
    "        compiled_travel_workflow.get_graph().draw_mermaid_png(\n",
    "            draw_method=MermaidDrawMethod.API,\n",
    "        )\n",
    "    )\n",
    ")"
   ]
  },
  {
   "cell_type": "code",
   "execution_count": null,
   "id": "ff9645ec",
   "metadata": {},
   "outputs": [],
   "source": []
  },
  {
   "cell_type": "markdown",
   "id": "28660a80",
   "metadata": {},
   "source": [
    "Step 9. Testing and Validation"
   ]
  },
  {
   "cell_type": "code",
   "execution_count": 115,
   "id": "19483704",
   "metadata": {},
   "outputs": [],
   "source": [
    "def test_travel_planner():\n",
    "    \"\"\"Test the orchestrator-workers travel planning system\"\"\"\n",
    "    \n",
    "    # Test different types of travel requests\n",
    "    test_requests = [\n",
    "        \"Plan a 5-day romantic getaway to Paris for two people, budget $3000, interested in art and fine dining\",\n",
    "        \n",
    "    ]\n",
    "    \n",
    "    for i, request in enumerate(test_requests, 1):\n",
    "        print(f\"\\n{'='*60}\")\n",
    "        print(f\"TEST {i}: {request}\")\n",
    "        print(f\"{'='*60}\")\n",
    "        \n",
    "        # Execute the workflow\n",
    "        result = compiled_travel_workflow.invoke({\n",
    "            \"original_request\": request\n",
    "        })\n",
    "        \n",
    "        # Display results\n",
    "        print(f\"\\nTask Breakdown ({result['task_breakdown']['total_tasks']} tasks):\")\n",
    "        for task in result['task_breakdown']['tasks']:\n",
    "            print(f\"  - {task['task_type']}: {task['task_description']}\")\n",
    "        \n",
    "        # Show executed workers\n",
    "        executed_workers = result['execution_metadata'].get('workers_executed', [])\n",
    "        print(f\"\\nWorkers Executed: {', '.join(executed_workers)}\")\n",
    "        \n",
    "        print(f\"\\nFinal Itinerary Preview:\")\n",
    "        print(result['final_itinerary'][:300] + \"...\")"
   ]
  },
  {
   "cell_type": "code",
   "execution_count": 116,
   "id": "1008116c",
   "metadata": {},
   "outputs": [
    {
     "name": "stdout",
     "output_type": "stream",
     "text": [
      "\n",
      "============================================================\n",
      "TEST 1: Plan a 5-day romantic getaway to Paris for two people, budget $3000, interested in art and fine dining\n",
      "============================================================\n",
      "\n",
      "Task Breakdown (5 tasks):\n",
      "  - transportation_planning: Research and book suitable flights for two people to Paris within the provided budget.\n",
      "  - accommodation_research: Find and book a romantic hotel or apartment accommodation for five days in Paris.\n",
      "  - activity_planning: Research and create a list of art museums, galleries, and exhibitions to visit during the trip.\n",
      "  - dining_recommendations: Identify and recommend fine dining restaurants and experiences in Paris based on the travelers' preferences.\n",
      "  - transportation_planning: Plan transportation within Paris, including options like public transportation, walking tours, or private car services.\n",
      "\n",
      "Workers Executed: dining_worker, activity_worker, transportation_worker, accommodation_worker\n",
      "\n",
      "Final Itinerary Preview:\n",
      "##  Your Romantic Parisian Getaway: A 5-Day Itinerary \n",
      "\n",
      "**Welcome to Paris, the City of Love!** This itinerary has been crafted to immerse you and your partner in the art, fine dining, and romantic charm of this unforgettable city. Prepare for a journey filled with iconic landmarks, hidden gems, and...\n"
     ]
    }
   ],
   "source": [
    "# Run the test\n",
    "if __name__ == \"__main__\":\n",
    "    test_travel_planner()"
   ]
  },
  {
   "cell_type": "code",
   "execution_count": null,
   "id": "9fcdaa68",
   "metadata": {},
   "outputs": [],
   "source": []
  },
  {
   "cell_type": "code",
   "execution_count": 119,
   "id": "dfea8242",
   "metadata": {},
   "outputs": [
    {
     "data": {
      "text/plain": [
       "{'task_breakdown': {'tasks': [{'task_id': 'hotel_booking',\n",
       "    'task_type': 'accommodation_research',\n",
       "    'task_description': 'Research and book suitable hotels/lodging for a romantic getaway.',\n",
       "    'priority': 5,\n",
       "    'required_context': ['budget', 'interests']},\n",
       "   {'task_id': 'art_experiences',\n",
       "    'task_type': 'activity_planning',\n",
       "    'task_description': 'Identify and book reservations for art museums, galleries, and exhibitions.',\n",
       "    'priority': 4,\n",
       "    'required_context': ['interests']},\n",
       "   {'task_id': 'fine_dining_recommendations',\n",
       "    'task_type': 'dining_recommendations',\n",
       "    'task_description': 'Research and recommend fine dining restaurants based on budget and preferences.',\n",
       "    'priority': 4,\n",
       "    'required_context': ['budget']},\n",
       "   {'task_id': 'transportation_planning',\n",
       "    'task_type': 'transportation_planning',\n",
       "    'task_description': 'Plan transportation between locations in Paris (airport, hotels, attractions).',\n",
       "    'priority': 3,\n",
       "    'required_context': []},\n",
       "   {'task_id': 'budget_optimization',\n",
       "    'task_type': 'budget_optimization',\n",
       "    'task_description': 'Review and adjust recommendations to ensure they fit within the specified budget.',\n",
       "    'priority': 2,\n",
       "    'required_context': ['budget']},\n",
       "   {'task_id': 'cultural_insights',\n",
       "    'task_type': 'cultural_insights',\n",
       "    'task_description': 'Provide insights into local customs and etiquette in Paris.',\n",
       "    'priority': 1,\n",
       "    'required_context': []}],\n",
       "  'estimated_duration': '5 days',\n",
       "  'special_requirements': ['romantic getaway'],\n",
       "  'total_tasks': 6},\n",
       " 'worker_results': {},\n",
       " 'execution_metadata': {'orchestration_timestamp': '2025-07-19T01:05:42.414688',\n",
       "  'task_count': 6,\n",
       "  'workers_executed': []}}"
      ]
     },
     "execution_count": 119,
     "metadata": {},
     "output_type": "execute_result"
    }
   ],
   "source": [
    "orchestrate_travel_planning({'original_request': \"Plan a 5-day romantic getaway to Paris for two people, budget $3000, interested in art and fine dining\"})"
   ]
  },
  {
   "cell_type": "code",
   "execution_count": null,
   "id": "9ebfaf8a",
   "metadata": {},
   "outputs": [],
   "source": []
  }
 ],
 "metadata": {
  "kernelspec": {
   "display_name": "Python 3",
   "language": "python",
   "name": "python3"
  },
  "language_info": {
   "codemirror_mode": {
    "name": "ipython",
    "version": 3
   },
   "file_extension": ".py",
   "mimetype": "text/x-python",
   "name": "python",
   "nbconvert_exporter": "python",
   "pygments_lexer": "ipython3",
   "version": "3.12.0"
  }
 },
 "nbformat": 4,
 "nbformat_minor": 5
}
