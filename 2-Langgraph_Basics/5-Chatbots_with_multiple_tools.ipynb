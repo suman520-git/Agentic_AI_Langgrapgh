{
 "cells": [
  {
   "cell_type": "markdown",
   "id": "39f512d4",
   "metadata": {},
   "source": [
    "## Building Chatbot with Multiple Tools Using Langgrahph\n",
    "\n",
    "# Aim\n",
    "\n",
    "create a chatbot with tool capabilities from arxiv,wikipedia search and some functions"
   ]
  },
  {
   "cell_type": "code",
   "execution_count": 2,
   "id": "836649c9",
   "metadata": {},
   "outputs": [],
   "source": [
    "from langchain_community.tools import ArxivQueryRun,WikipediaQueryRun\n",
    "from langchain_community.utilities import WikipediaAPIWrapper ,ArxivAPIWrapper"
   ]
  },
  {
   "cell_type": "code",
   "execution_count": 3,
   "id": "03fbc4e0",
   "metadata": {},
   "outputs": [
    {
     "name": "stdout",
     "output_type": "stream",
     "text": [
      "arxiv\n"
     ]
    }
   ],
   "source": [
    "api_wrapper_arxiv=ArxivAPIWrapper(top_k_results=2,doc_content_chars_max=500)\n",
    "arxiv=ArxivQueryRun(api_wrapper=api_wrapper_arxiv)\n",
    "print(arxiv.name)"
   ]
  },
  {
   "cell_type": "code",
   "execution_count": 4,
   "id": "a334517a",
   "metadata": {},
   "outputs": [
    {
     "data": {
      "text/plain": [
       "\"Published: 2024-07-22\\nTitle: Attention Is All You Need But You Don't Need All Of It For Inference of Large Language Models\\nAuthors: Georgy Tyukin, Gbetondji J-S Dovonon, Jean Kaddour, Pasquale Minervini\\nSummary: The inference demand for LLMs has skyrocketed in recent months, and serving\\nmodels with low latencies remains challenging due to the quadratic input length\\ncomplexity of the attention layers. In this work, we investigate the effect of\\ndropping MLP and attention layers at inference time o\""
      ]
     },
     "execution_count": 4,
     "metadata": {},
     "output_type": "execute_result"
    }
   ],
   "source": [
    "arxiv.invoke(\"attention is all you need\")"
   ]
  },
  {
   "cell_type": "code",
   "execution_count": 6,
   "id": "2dd7e615",
   "metadata": {},
   "outputs": [
    {
     "data": {
      "text/plain": [
       "'wikipedia'"
      ]
     },
     "execution_count": 6,
     "metadata": {},
     "output_type": "execute_result"
    }
   ],
   "source": [
    "api_wrapper_wiki=WikipediaAPIWrapper(top_k_results=1,doc_content_chars_max=500)\n",
    "wiki=WikipediaQueryRun(api_wrapper=api_wrapper_wiki)\n",
    "wiki.name"
   ]
  },
  {
   "cell_type": "code",
   "execution_count": 7,
   "id": "bee57299",
   "metadata": {},
   "outputs": [
    {
     "data": {
      "text/plain": [
       "'Page: Machine learning\\nSummary: Machine learning (ML) is a field of study in artificial intelligence concerned with the development and study of statistical algorithms that can learn from data and generalise to unseen data, and thus perform tasks without explicit instructions. Within a subdiscipline in machine learning, advances in the field of deep learning have allowed neural networks, a class of statistical algorithms, to surpass many previous machine learning approaches in performance.\\nML fi'"
      ]
     },
     "execution_count": 7,
     "metadata": {},
     "output_type": "execute_result"
    }
   ],
   "source": [
    "wiki.invoke('what is machine learning')"
   ]
  },
  {
   "cell_type": "code",
   "execution_count": 8,
   "id": "ac32256c",
   "metadata": {},
   "outputs": [],
   "source": [
    "from dotenv import load_dotenv\n",
    "load_dotenv()\n",
    "\n",
    "import os\n",
    "\n",
    "os.environ[\"TAVILY_API_KEY\"]=os.getenv(\"TAVILY_API_KEY\")\n",
    "os.environ[\"GROQ_API_KEY\"]=os.getenv(\"GROQ_API_KEY\")\n"
   ]
  },
  {
   "cell_type": "code",
   "execution_count": 10,
   "id": "afd688c0",
   "metadata": {},
   "outputs": [],
   "source": [
    "## Tavily search tool\n",
    "from langchain_community.tools.tavily_search import TavilySearchResults\n",
    "\n",
    "tavily=TavilySearchResults()"
   ]
  },
  {
   "cell_type": "code",
   "execution_count": 11,
   "id": "ee60f306",
   "metadata": {},
   "outputs": [
    {
     "data": {
      "text/plain": [
       "[{'title': 'AI Dispatch: Daily Trends and Innovations – July 16, 2025 | NVIDIA ...',\n",
       "  'url': 'https://hipther.com/latest-news/2025/07/15/95652/ai-dispatch-daily-trends-and-innovations-july-16-2025-nvidia-the-guardian-x-ai-the-economist-jumptuit/',\n",
       "  'content': '1. NVIDIA CEO Promotes AI in D.C. and China · 2. The Rise of the Machines: AI Outrage in Tennis · 3. X.ai Launches Government AI Hub · 4. AI Is',\n",
       "  'score': 0.7746691},\n",
       " {'title': 'Latest AI Breakthroughs and News: May, June, July 2025',\n",
       "  'url': 'https://www.crescendo.ai/news/latest-ai-news-and-updates',\n",
       "  'content': 'Summary: Scientists have used AI to develop a new paint formula that keeps buildings significantly cooler by reflecting solar radiation. The',\n",
       "  'score': 0.47227025},\n",
       " {'title': 'Meta and AWS are teaming up to win over developers in the AI race',\n",
       "  'url': 'https://www.cnn.com/2025/07/16/tech/meta-aws-llama-ai-startups-partnership',\n",
       "  'content': \"Meta CEO Mark Zuckerberg speaks at LlamaCon 2025, the company's AI developer conference. A new Meta-AWS partnership aims to get more startups\",\n",
       "  'score': 0.46395484},\n",
       " {'title': 'China Is Spending Billions to Become an A.I. Superpower',\n",
       "  'url': 'https://www.nytimes.com/2025/07/16/technology/china-ai.html',\n",
       "  'content': \"Chinese companies like DeepSeek and Alibaba have churned out open-source A.I. systems of their own that rank among the world's top performers.\",\n",
       "  'score': 0.16281913},\n",
       " {'title': \"Big US investments announced at Trump's tech and AI summit\",\n",
       "  'url': 'https://www.reuters.com/business/energy/some-big-us-investments-being-made-ai-energy-2025-07-15/',\n",
       "  'content': 'American companies rolled out a series of big-ticket AI and energy investment pledges on Tuesday, part of a push by President Donald Trump',\n",
       "  'score': 0.099025175}]"
      ]
     },
     "execution_count": 11,
     "metadata": {},
     "output_type": "execute_result"
    }
   ],
   "source": [
    "tavily.invoke(\"provide me the recent july 16 2025 Ai articles\")"
   ]
  },
  {
   "cell_type": "markdown",
   "id": "776c6909",
   "metadata": {},
   "source": [
    "## Combine all the tools in the list\n",
    "\n"
   ]
  },
  {
   "cell_type": "code",
   "execution_count": 12,
   "id": "3955596b",
   "metadata": {},
   "outputs": [],
   "source": [
    "tools=[arxiv,wiki,tavily]"
   ]
  },
  {
   "cell_type": "code",
   "execution_count": 14,
   "id": "f0309bfd",
   "metadata": {},
   "outputs": [],
   "source": [
    "## Initialize the LLm model\n",
    "from langchain_groq import ChatGroq\n",
    "llm=ChatGroq(model=\"qwen/qwen3-32b\")\n",
    "llm_with_tools=llm.bind_tools(tools)\n",
    "\n"
   ]
  },
  {
   "cell_type": "code",
   "execution_count": 15,
   "id": "e859a362",
   "metadata": {},
   "outputs": [
    {
     "data": {
      "text/plain": [
       "AIMessage(content='', additional_kwargs={'reasoning_content': 'Okay, the user is asking about recent developments in AI. I need to figure out which tool to use here. Let\\'s see, the available tools are arxiv, wikipedia, and tavily_search_results_json.\\n\\nArxiv is good for academic papers, which might give the latest research. Wikipedia could provide a more general overview. Tavily might be a search engine, but I\\'m not sure. The user wants recent developments, so maybe arxiv would be best for the latest studies. Let me check the parameters. All require a query. \\n\\nI should structure the query to get the most recent papers. Maybe use keywords like \"recent advancements in AI\" or \"latest AI developments 2023\". Let me go with arxiv for this. The function name is arxiv, and the arguments should have the query. So, I\\'ll set the query to \"recent developments in AI 2023\" to get the latest results.\\n', 'tool_calls': [{'id': 'sr79sg34z', 'function': {'arguments': '{\"query\":\"recent developments in AI 2023\"}', 'name': 'arxiv'}, 'type': 'function'}]}, response_metadata={'token_usage': {'completion_tokens': 225, 'prompt_tokens': 266, 'total_tokens': 491, 'completion_time': 0.502097777, 'prompt_time': 0.012313263, 'queue_time': 0.05668947700000001, 'total_time': 0.51441104}, 'model_name': 'qwen/qwen3-32b', 'system_fingerprint': 'fp_8487b76fd3', 'service_tier': 'on_demand', 'finish_reason': 'tool_calls', 'logprobs': None}, id='run--514045a8-8e41-4f58-9a85-902f07c21f2b-0', tool_calls=[{'name': 'arxiv', 'args': {'query': 'recent developments in AI 2023'}, 'id': 'sr79sg34z', 'type': 'tool_call'}], usage_metadata={'input_tokens': 266, 'output_tokens': 225, 'total_tokens': 491})"
      ]
     },
     "execution_count": 15,
     "metadata": {},
     "output_type": "execute_result"
    }
   ],
   "source": [
    "from pprint import pprint\n",
    "from langchain_core.messages import AIMessage ,HumanMessage\n",
    "llm_with_tools.invoke([HumanMessage(content=f\"what is recent developments in Ai\")])"
   ]
  },
  {
   "cell_type": "code",
   "execution_count": 17,
   "id": "ef1a0135",
   "metadata": {},
   "outputs": [
    {
     "data": {
      "text/plain": [
       "[{'name': 'arxiv',\n",
       "  'args': {'query': 'recent developments in AI'},\n",
       "  'id': 'xvk519v3p',\n",
       "  'type': 'tool_call'}]"
      ]
     },
     "execution_count": 17,
     "metadata": {},
     "output_type": "execute_result"
    }
   ],
   "source": [
    "llm_with_tools.invoke([HumanMessage(content=f\"what is recent developments in Ai\")]).tool_calls"
   ]
  },
  {
   "cell_type": "code",
   "execution_count": 18,
   "id": "d40cf011",
   "metadata": {},
   "outputs": [],
   "source": [
    "## State schema\n",
    "\n",
    "from typing_extensions import TypedDict\n",
    "from langchain_core.messages import AnyMessage\n",
    "from typing import Annotated\n",
    "from langgraph.graph.message import add_messages\n",
    "\n",
    "class State(TypedDict):\n",
    "    messages:Annotated[list[AnyMessage], add_messages]\n",
    "    "
   ]
  },
  {
   "cell_type": "code",
   "execution_count": 28,
   "id": "445b58e0",
   "metadata": {},
   "outputs": [
    {
     "data": {
      "image/png": "[encoded data removed]",
      "text/plain": [
       "<IPython.core.display.Image object>"
      ]
     },
     "metadata": {},
     "output_type": "display_data"
    }
   ],
   "source": [
    "## Entire Chatbot with langgraph\n",
    "\n",
    "from IPython.display import Image ,display\n",
    "from langgraph.graph import StateGraph,START,END\n",
    "from langgraph.prebuilt import ToolNode ,tools_condition\n",
    "\n",
    "## Node defination\n",
    "\n",
    "def tool_calling_llm(state:State):\n",
    "    return {\"messages\":[llm_with_tools.invoke(state[\"messages\"])]}\n",
    "## Build graph\n",
    "builder=StateGraph(State)\n",
    "builder.add_node(\"tool_calling_llm\",tool_calling_llm)\n",
    "builder.add_node('tools',ToolNode(tools))\n",
    "builder.add_edge(START ,\"tool_calling_llm\")\n",
    "builder.add_conditional_edges(\"tool_calling_llm\",tools_condition)\n",
    "\n",
    "builder.add_edge(\"tools\",END)\n",
    "\n",
    "graph=builder.compile()\n",
    "display(Image(graph.get_graph().draw_mermaid_png()))"
   ]
  },
  {
   "cell_type": "code",
   "execution_count": 29,
   "id": "d7d710d3",
   "metadata": {},
   "outputs": [
    {
     "name": "stdout",
     "output_type": "stream",
     "text": [
      "================================\u001b[1m Human Message \u001b[0m=================================\n",
      "\n",
      "provide me the AI latest articles\n",
      "==================================\u001b[1m Ai Message \u001b[0m==================================\n",
      "Tool Calls:\n",
      "  arxiv (kj9tqphs8)\n",
      " Call ID: kj9tqphs8\n",
      "  Args:\n",
      "    query: AI\n",
      "=================================\u001b[1m Tool Message \u001b[0m=================================\n",
      "Name: arxiv\n",
      "\n",
      "Published: 2024-08-26\n",
      "Title: AI Thinking: A framework for rethinking artificial intelligence in practice\n",
      "Authors: Denis Newman-Griffis\n",
      "Summary: Artificial intelligence is transforming the way we work with information\n",
      "across disciplines and practical contexts. A growing range of disciplines are\n",
      "now involved in studying, developing, and assessing the use of AI in practice,\n",
      "but these disciplines often employ conflicting understandings of what AI is and\n",
      "what is involved in its use. New, interdiscipl\n"
     ]
    }
   ],
   "source": [
    "messages=graph.invoke({\"messages\":HumanMessage(content=\"provide me the AI latest articles\")})\n",
    "for m in messages['messages']:\n",
    "    m.pretty_print()"
   ]
  },
  {
   "cell_type": "code",
   "execution_count": 30,
   "id": "afd97e71",
   "metadata": {},
   "outputs": [
    {
     "name": "stdout",
     "output_type": "stream",
     "text": [
      "================================\u001b[1m Human Message \u001b[0m=================================\n",
      "\n",
      "1706.03762\n",
      "==================================\u001b[1m Ai Message \u001b[0m==================================\n",
      "Tool Calls:\n",
      "  arxiv (9t9ea8py6)\n",
      " Call ID: 9t9ea8py6\n",
      "  Args:\n",
      "    query: 1706.03762\n",
      "=================================\u001b[1m Tool Message \u001b[0m=================================\n",
      "Name: arxiv\n",
      "\n",
      "Published: 2023-08-02\n",
      "Title: Attention Is All You Need\n",
      "Authors: Ashish Vaswani, Noam Shazeer, Niki Parmar, Jakob Uszkoreit, Llion Jones, Aidan N. Gomez, Lukasz Kaiser, Illia Polosukhin\n",
      "Summary: The dominant sequence transduction models are based on complex recurrent or\n",
      "convolutional neural networks in an encoder-decoder configuration. The best\n",
      "performing models also connect the encoder and decoder through an attention\n",
      "mechanism. We propose a new simple network architecture, the Transformer, base\n"
     ]
    }
   ],
   "source": [
    "messages=graph.invoke({\"messages\":HumanMessage(content=\"1706.03762\")})\n",
    "for m in messages['messages']:\n",
    "    m.pretty_print()"
   ]
  },
  {
   "cell_type": "code",
   "execution_count": null,
   "id": "9bc0a838",
   "metadata": {},
   "outputs": [],
   "source": []
  },
  {
   "cell_type": "code",
   "execution_count": null,
   "id": "b3c94459",
   "metadata": {},
   "outputs": [],
   "source": []
  },
  {
   "cell_type": "code",
   "execution_count": null,
   "id": "6e2885e5",
   "metadata": {},
   "outputs": [],
   "source": []
  },
  {
   "cell_type": "code",
   "execution_count": null,
   "id": "514903a1",
   "metadata": {},
   "outputs": [],
   "source": []
  },
  {
   "cell_type": "code",
   "execution_count": null,
   "id": "5fc64db7",
   "metadata": {},
   "outputs": [],
   "source": []
  },
  {
   "cell_type": "code",
   "execution_count": null,
   "id": "a8ec8eb4",
   "metadata": {},
   "outputs": [],
   "source": []
  },
  {
   "cell_type": "code",
   "execution_count": null,
   "id": "0508c2b5",
   "metadata": {},
   "outputs": [],
   "source": []
  }
 ],
 "metadata": {
  "kernelspec": {
   "display_name": "Python 3",
   "language": "python",
   "name": "python3"
  },
  "language_info": {
   "codemirror_mode": {
    "name": "ipython",
    "version": 3
   },
   "file_extension": ".py",
   "mimetype": "text/x-python",
   "name": "python",
   "nbconvert_exporter": "python",
   "pygments_lexer": "ipython3",
   "version": "3.12.0"
  }
 },
 "nbformat": 4,
 "nbformat_minor": 5
}
