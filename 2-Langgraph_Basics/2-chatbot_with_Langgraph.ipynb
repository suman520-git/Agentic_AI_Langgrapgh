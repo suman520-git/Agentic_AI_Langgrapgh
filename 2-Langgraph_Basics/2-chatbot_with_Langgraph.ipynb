{
 "cells": [
  {
   "cell_type": "markdown",
   "id": "541cc88f",
   "metadata": {},
   "source": [
    "### Implementing simple Chatbot Using LangGraph"
   ]
  },
  {
   "cell_type": "code",
   "execution_count": 3,
   "id": "193305c2",
   "metadata": {},
   "outputs": [],
   "source": [
    "from typing_extensions import TypedDict\n",
    "from langgraph.graph import StateGraph , START ,END\n",
    "## Reducers\n",
    "from typing import Annotated\n",
    "from langgraph.graph.message import add_messages\n"
   ]
  },
  {
   "cell_type": "code",
   "execution_count": 4,
   "id": "5ed6060e",
   "metadata": {},
   "outputs": [],
   "source": [
    "class State(TypedDict):\n",
    "    messages:Annotated[list,add_messages]"
   ]
  },
  {
   "cell_type": "code",
   "execution_count": 6,
   "id": "933f09f3",
   "metadata": {},
   "outputs": [],
   "source": [
    "import os\n",
    "from dotenv import load_dotenv\n",
    "load_dotenv()\n",
    "\n",
    "os.environ[\"OPENAI_API_KEY\"]=os.getenv(\"OPENAI_API_KEY\")\n",
    "os.environ[\"GROQ_API_KEY\"]=os.getenv(\"GROQ_API_KEY\")"
   ]
  },
  {
   "cell_type": "code",
   "execution_count": 7,
   "id": "eb58c313",
   "metadata": {},
   "outputs": [
    {
     "data": {
      "text/plain": [
       "AIMessage(content='Hello! How can I assist you today?', additional_kwargs={'refusal': None}, response_metadata={'token_usage': {'completion_tokens': 9, 'prompt_tokens': 8, 'total_tokens': 17, 'completion_tokens_details': {'accepted_prediction_tokens': 0, 'audio_tokens': 0, 'reasoning_tokens': 0, 'rejected_prediction_tokens': 0}, 'prompt_tokens_details': {'audio_tokens': 0, 'cached_tokens': 0}}, 'model_name': 'gpt-4o-2024-08-06', 'system_fingerprint': None, 'id': 'chatcmpl-Btd5YlXAUQKtKmoSydCn8Xd7kihEF', 'service_tier': 'default', 'finish_reason': 'stop', 'logprobs': None}, id='run--8a670274-d90b-486d-ad88-160aeb830f95-0', usage_metadata={'input_tokens': 8, 'output_tokens': 9, 'total_tokens': 17, 'input_token_details': {'audio': 0, 'cache_read': 0}, 'output_token_details': {'audio': 0, 'reasoning': 0}})"
      ]
     },
     "execution_count": 7,
     "metadata": {},
     "output_type": "execute_result"
    }
   ],
   "source": [
    "from langchain_openai import ChatOpenAI\n",
    "llm=ChatOpenAI(model=\"gpt-4o\")\n",
    "llm.invoke(\"Hello\")"
   ]
  },
  {
   "cell_type": "code",
   "execution_count": 10,
   "id": "e212fe9d",
   "metadata": {},
   "outputs": [
    {
     "data": {
      "text/plain": [
       "AIMessage(content=\"<think>\\nOkay, the user is Suman and he likes to play cricket. Let me start by greeting him and showing enthusiasm about his interest. I should ask him about his favorite team or player to keep the conversation going. Maybe mention some popular players from different countries to cover a range. Also, ask if he plays any specific position or role in the game. That could help in suggesting practice tips or strategies. I should keep the tone friendly and supportive, encouraging him to share more about his experiences with cricket.\\n</think>\\n\\nHey Suman! 🏏 That's awesome—cricket is such a thrilling game to play and watch. I'd love to hear more about your passion for it! Do you follow any particular team or player? Are you more into batting, bowling, or fielding? Also, do you play locally or just follow the sport? Let me know—I’d be happy to discuss strategies, techniques, or even fun cricket trivia! 😊\", additional_kwargs={}, response_metadata={'token_usage': {'completion_tokens': 195, 'prompt_tokens': 19, 'total_tokens': 214, 'completion_time': 0.483588061, 'prompt_time': 0.000535593, 'queue_time': 0.048854647, 'total_time': 0.484123654}, 'model_name': 'qwen/qwen3-32b', 'system_fingerprint': 'fp_8487b76fd3', 'service_tier': 'on_demand', 'finish_reason': 'stop', 'logprobs': None}, id='run--f32c6f05-f379-4ff5-b041-558b37e6d438-0', usage_metadata={'input_tokens': 19, 'output_tokens': 195, 'total_tokens': 214})"
      ]
     },
     "execution_count": 10,
     "metadata": {},
     "output_type": "execute_result"
    }
   ],
   "source": [
    "from langchain_groq import ChatGroq\n",
    "\n",
    "llm_groq=ChatGroq(model=\"qwen/qwen3-32b\")\n",
    "llm_groq.invoke(\"Hey I am Suman and i like to play cricket\")"
   ]
  },
  {
   "cell_type": "markdown",
   "id": "c8bf877b",
   "metadata": {},
   "source": [
    "###  Creating Nodes"
   ]
  },
  {
   "cell_type": "code",
   "execution_count": 11,
   "id": "f1c9b7f3",
   "metadata": {},
   "outputs": [],
   "source": [
    "def superbot(state:State):\n",
    "    return {\"messages\":[llm_groq.invoke(state['messages'])]}"
   ]
  },
  {
   "cell_type": "code",
   "execution_count": 12,
   "id": "24aefeab",
   "metadata": {},
   "outputs": [
    {
     "data": {
      "image/png": "[encoded data removed]",
      "text/plain": [
       "<IPython.core.display.Image object>"
      ]
     },
     "metadata": {},
     "output_type": "display_data"
    }
   ],
   "source": [
    "graph=StateGraph(State)\n",
    "\n",
    "##node\n",
    "graph.add_node(\"Superbot\",superbot)\n",
    "\n",
    "##Add edges\n",
    "graph.add_edge(START,\"Superbot\")\n",
    "graph.add_edge(\"Superbot\",END)\n",
    "\n",
    "graph_builder=graph.compile()\n",
    "\n",
    "##Display\n",
    "from IPython.display import Image ,display\n",
    "display(Image(graph_builder.get_graph().draw_mermaid_png()))\n"
   ]
  },
  {
   "cell_type": "code",
   "execution_count": 14,
   "id": "a5e0fd53",
   "metadata": {},
   "outputs": [
    {
     "data": {
      "text/plain": [
       "{'messages': [HumanMessage(content='Hi Iam suman vemula ,Ilike to read books', additional_kwargs={}, response_metadata={}, id='74716189-d8b2-445e-82f7-2971e3d527c1'),\n",
       "  AIMessage(content=\"<think>\\nOkay, the user introduced themselves as Suman Vemula and mentioned they like reading books. I should respond warmly and engage them in a friendly conversation. First, I'll thank them for introducing themselves and then ask about the types of books they enjoy. It's important to keep the tone positive and encouraging. Maybe add an emoji to keep it light. Let me make sure the questions are open-ended so they can elaborate. Also, I should check if there's anything else they want to share about their reading habits. Avoid any technical jargon and keep the response simple and approachable.\\n</think>\\n\\nHi Suman! 👋 Thank you for introducing yourself. It's wonderful that you enjoy reading books—what genres or types of books are you most drawn to? I'd love to hear about your favorite authors or books that have made an impression on you. Happy reading! 📚😊\", additional_kwargs={}, response_metadata={'token_usage': {'completion_tokens': 182, 'prompt_tokens': 21, 'total_tokens': 203, 'completion_time': 0.432247685, 'prompt_time': 0.00062269, 'queue_time': 0.05001419, 'total_time': 0.432870375}, 'model_name': 'qwen/qwen3-32b', 'system_fingerprint': 'fp_8487b76fd3', 'service_tier': 'on_demand', 'finish_reason': 'stop', 'logprobs': None}, id='run--cab4bf66-1c14-4d9b-9ff1-e9e7bb5b217c-0', usage_metadata={'input_tokens': 21, 'output_tokens': 182, 'total_tokens': 203})]}"
      ]
     },
     "execution_count": 14,
     "metadata": {},
     "output_type": "execute_result"
    }
   ],
   "source": [
    "##Invocation\n",
    "graph_builder.invoke({\"messages\":\"Hi Iam suman vemula ,Ilike to read books\"})"
   ]
  },
  {
   "cell_type": "markdown",
   "id": "9c1159e1",
   "metadata": {},
   "source": [
    "#### Streaming The responses"
   ]
  },
  {
   "cell_type": "code",
   "execution_count": 15,
   "id": "fd23cd13",
   "metadata": {},
   "outputs": [
    {
     "name": "stdout",
     "output_type": "stream",
     "text": [
      "{'Superbot': {'messages': [AIMessage(content=\"<think>\\nOkay, the user introduced themselves as Suman. I should respond in a friendly and welcoming manner. Maybe ask how I can assist them today. Keep it open-ended so they can specify their needs. Make sure to use their name to personalize the interaction. Check for any previous interactions, but since this is new, just start fresh. Use simple and clear language. Avoid any technical jargon unless needed. Ensure the tone is positive and helpful. Alright, let's put that together.\\n</think>\\n\\nHello Suman! Nice to meet you. How can I assist you today? 😊\", additional_kwargs={}, response_metadata={'token_usage': {'completion_tokens': 120, 'prompt_tokens': 14, 'total_tokens': 134, 'completion_time': 0.267602842, 'prompt_time': 0.000449314, 'queue_time': 0.053456035, 'total_time': 0.268052156}, 'model_name': 'qwen/qwen3-32b', 'system_fingerprint': 'fp_f17c2eb555', 'service_tier': 'on_demand', 'finish_reason': 'stop', 'logprobs': None}, id='run--fb31b560-97ab-44c9-8a3a-2a0c49f2e593-0', usage_metadata={'input_tokens': 14, 'output_tokens': 120, 'total_tokens': 134})]}}\n"
     ]
    }
   ],
   "source": [
    "for event in graph_builder.stream({\"messages\":\"Hello my name is suman\"}):\n",
    "    print(event)"
   ]
  },
  {
   "cell_type": "code",
   "execution_count": null,
   "id": "b86f745b",
   "metadata": {},
   "outputs": [],
   "source": []
  }
 ],
 "metadata": {
  "kernelspec": {
   "display_name": "Python 3",
   "language": "python",
   "name": "python3"
  },
  "language_info": {
   "codemirror_mode": {
    "name": "ipython",
    "version": 3
   },
   "file_extension": ".py",
   "mimetype": "text/x-python",
   "name": "python",
   "nbconvert_exporter": "python",
   "pygments_lexer": "ipython3",
   "version": "3.12.0"
  }
 },
 "nbformat": 4,
 "nbformat_minor": 5
}
