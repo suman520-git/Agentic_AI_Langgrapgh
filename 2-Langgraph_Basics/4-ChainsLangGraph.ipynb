{
 "cells": [
  {
   "cell_type": "markdown",
   "id": "fbb04c86",
   "metadata": {},
   "source": [
    "### Chain Using LangGraph\n",
    "In this section we will see how we can build a simple chain using Langgraph that uses 4 important concepts\n",
    "\n",
    "- How to use chat messages as our graph state\n",
    "- How to use chat models in graph nodes\n",
    "- How to bind tools to our LLM in chat models\n",
    "- How to execute the tools call in our graph nodes "
   ]
  },
  {
   "cell_type": "code",
   "execution_count": 1,
   "id": "4d9ed5ea",
   "metadata": {},
   "outputs": [],
   "source": [
    "from dotenv import load_dotenv\n",
    "load_dotenv()\n",
    "\n",
    "import os\n",
    "os.environ[\"OPENAI_API_KEY\"]=os.getenv(\"OPENAI_API_KEY\")\n",
    "os.environ[\"GROQ_API_KEY\"]=os.getenv(\"GROQ_API_KEY\")"
   ]
  },
  {
   "cell_type": "markdown",
   "id": "96234251",
   "metadata": {},
   "source": [
    "#### How to use chat messages as our graph state\n",
    "##### Messages\n",
    "\n",
    "We can use messages which can be used to capture different roles within a conversation.\n",
    "LangChain has various message types including HumanMessage, AIMessage, SystemMessage and ToolMessage.\n",
    "These represent a message from the user, from chat model, for the chat model to instruct behavior, and from a tool call.\n",
    "\n",
    "Every message have these important components.\n",
    "- content - content of the message\n",
    "- name - Specify the name of author\n",
    "- response_metadata - optionally, a dict of metadata (e.g., often populated by model provider for AIMessages)\n"
   ]
  },
  {
   "cell_type": "code",
   "execution_count": 2,
   "id": "caf1d496",
   "metadata": {},
   "outputs": [
    {
     "name": "stdout",
     "output_type": "stream",
     "text": [
      "==================================\u001b[1m Ai Message \u001b[0m==================================\n",
      "Name: LLMModel\n",
      "\n",
      "Please tell me how can I help\n",
      "================================\u001b[1m Human Message \u001b[0m=================================\n",
      "Name: suman\n",
      "\n",
      "I want to learn coding\n",
      "==================================\u001b[1m Ai Message \u001b[0m==================================\n",
      "Name: LLMModel\n",
      "\n",
      "Which programming language you want to learn\n",
      "================================\u001b[1m Human Message \u001b[0m=================================\n",
      "Name: suman\n",
      "\n",
      "I want to learn python programming language\n"
     ]
    }
   ],
   "source": [
    "from langchain_core.messages import AIMessage,HumanMessage\n",
    "from pprint import pprint\n",
    "\n",
    "messages=[AIMessage(content=f\"Please tell me how can I help\",name=\"LLMModel\")]\n",
    "messages.append(HumanMessage(content=f\"I want to learn coding\",name=\"suman\"))\n",
    "messages.append(AIMessage(content=f\"Which programming language you want to learn\",name=\"LLMModel\"))\n",
    "messages.append(HumanMessage(content=f\"I want to learn python programming language\",name=\"suman\"))\n",
    "\n",
    "for message in messages:\n",
    "    message.pretty_print()\n",
    "\n"
   ]
  },
  {
   "cell_type": "markdown",
   "id": "d89aafb7",
   "metadata": {},
   "source": [
    "### Chat Models\n",
    "\n",
    "We can use the sequence of message as input with the chatmodels using LLM's and OPENAI."
   ]
  },
  {
   "cell_type": "code",
   "execution_count": 3,
   "id": "46cbd8b7",
   "metadata": {},
   "outputs": [],
   "source": [
    "from langchain_groq import ChatGroq\n",
    "llm=ChatGroq(model=\"qwen/qwen3-32b\")\n",
    "result=llm.invoke(messages)"
   ]
  },
  {
   "cell_type": "code",
   "execution_count": 4,
   "id": "5fbd8226",
   "metadata": {},
   "outputs": [
    {
     "data": {
      "text/plain": [
       "AIMessage(content='<think>\\nOkay, the user wants to learn Python. Let me start by outlining the basics. First, they\\'ll need to install Python. I should mention downloading from the official website and choosing the latest version. Then, an IDE like VS Code or PyCharm would be good, but maybe start with something simple like IDLE if they\\'re new.\\n\\nNext, the basics. Variables, data types, strings, etc. Maybe use a simple example like printing \"Hello, World!\" to get them started. Then move into control structures like loops and conditionals. Functions are important too, so explaining how to define and use them would help.\\n\\nData structures like lists, tuples, dictionaries, and sets are fundamental. I should include examples of each. Then, maybe touch on file handling, since it\\'s common. Oh, and error handling with try-except blocks can be useful early on.\\n\\nProjects are key for learning. Suggesting a calculator, to-do list, or a text-based game. Maybe even web scraping with requests and BeautifulSoup if they\\'re interested in that area. Then, progressing to more advanced topics like object-oriented programming, libraries (NumPy, Pandas), and maybe even Django or Flask for web development.\\n\\nI should also mention resources like Codecademy, Coursera, or freeCodeCamp. Practice is important, so recommending platforms like LeetCode or HackerRank. Finally, encourage them to build projects and contribute to open source to solidify their skills. Keep the tone friendly and encouraging, maybe add some emojis to make it approachable.\\n</think>\\n\\nGreat! Python is a fantastic language to start with because it\\'s versatile, beginner-friendly, and widely used in fields like web development, data science, automation, and artificial intelligence. Here\\'s a step-by-step guide to help you learn Python effectively:\\n\\n---\\n\\n### **1. Set Up Your Environment**\\n- **Install Python**: Download and install the latest version of Python from [python.org](https://www.python.org/downloads/).\\n  - Choose **Python 3.x** (the latest version).\\n- **Choose an Editor/IDE**:\\n  - **Beginner-friendly**: Use **IDLE** (comes with Python) or **Visual Studio Code** (free, powerful).\\n  - **Advanced**: Use **PyCharm** (free Community Edition) or **Jupyter Notebook** (great for data science).\\n\\n---\\n\\n### **2. Learn the Basics**\\nStart with core Python concepts. Use online tutorials (like [Python.org\\'s beginner\\'s guide](https://docs.python.org/3/tutorial/index.html)) or platforms like [freeCodeCamp](https://www.freecodecamp.org/), [Codecademy](https://www.codecademy.com/learn/learn-python), or [W3Schools](https://www.w3schools.com/python/).\\n\\n#### **Key Topics to Learn**:\\n1. **Syntax Basics**:\\n   - Print statements: `print(\"Hello, World!\")`\\n   - Indentation (no curly braces `{}` in Python).\\n2. **Variables and Data Types**:\\n   - Integers, floats, strings, booleans.\\n   - Example: `x = 5`, `name = \"Alice\"`.\\n3. **Operators**:\\n   - Arithmetic (`+`, `-`, `*`, `/`), comparison (`==`, `!=`, `>`, `<`), logical (`and`, `or`, `not`).\\n4. **Control Structures**:\\n   - `if`, `elif`, `else` statements.\\n   - `for` and `while` loops.\\n5. **Functions**:\\n   - Define functions with `def`:  \\n     ```python\\n     def greet(name):\\n         print(f\"Hello, {name}!\")\\n     ```\\n6. **Data Structures**:\\n   - **Lists**: `fruits = [\"apple\", \"banana\", \"cherry\"]`\\n   - **Tuples**: `coordinates = (10, 20)`\\n   - **Dictionaries**: `person = {\"name\": \"Alice\", \"age\": 25}`\\n   - **Sets**: `unique_numbers = {1, 2, 3}`\\n7. **File Handling**:\\n   - Read/write files using `open()` and `with` statements.\\n8. **Error Handling**:\\n   - Use `try`, `except`, `finally` blocks.\\n\\n---\\n\\n### **3. Practice with Projects**\\nLearn by building projects! Here are some beginner-friendly ideas:\\n1. **Calculator**: Build a simple math calculator.\\n2. **To-Do List**: Create a program to add/remove tasks.\\n3. **Guess the Number Game**: Use random numbers and user input.\\n4. **Text-Based Adventure Game**: Practice conditionals and loops.\\n5. **Web Scraper**: Use libraries like `requests` and `BeautifulSoup` to extract data from websites.\\n6. **Data Visualizer**: Plot graphs with `matplotlib` or analyze CSV files with `pandas`.\\n\\n---\\n\\n### **4. Learn Advanced Topics**\\nOnce you\\'re comfortable with the basics:\\n1. **Object-Oriented Programming (OOP)**:\\n   - Classes and objects, inheritance, polymorphism.\\n   - Example:  \\n     ```python\\n     class Dog:\\n         def __init__(self, name):\\n             self.name = name\\n\\n         def bark(self):\\n             print(f\"{self.name} says woof!\")\\n     ```\\n2. **Libraries and Packages**:\\n   - **NumPy**: For numerical computing.\\n   - **Pandas**: For data analysis.\\n   - **Matplotlib/Seaborn**: For data visualization.\\n   - **Flask/Django**: For web development.\\n   - **TensorFlow/PyTorch**: For machine learning.\\n3. **Version Control**:\\n   - Learn **Git** and use **GitHub** to share your projects.\\n\\n---\\n\\n### **5. Resources to Help You Learn**\\n- **Free Tutorials**:\\n  - [Python.org Docs](https://docs.python.org/3/) (official guide).\\n  - [freeCodeCamp Python Course](https://www.freecodecamp.org/news/learn-python-free-python-courses-for-beginners/) (YouTube).\\n  - [Python for Everybody (Coursera)](https://www.coursera.org/specializations/python) (University of Michigan).\\n- **Interactive Practice**:\\n  - [LeetCode](https://leetcode.com/) (coding challenges).\\n  - [HackerRank Python Problems](https://www.hackerrank.com/domains/python).\\n  - [Exercism Python Track](https://exercism.org/tracks/python).\\n- **Books**:\\n  - *\"Python Crash Course\"* by Eric Matthes (great for beginners).\\n  - *\"Automate the Boring Stuff with Python\"* by Al Sweigart.\\n\\n---\\n\\n### **6. Get Help When Stuck**\\n- Ask questions on [Stack Overflow](https://stackoverflow.com/) or [Reddit\\'s r/learnpython](https://www.reddit.com/r/learnpython/).\\n- Join Python communities like [Python Discord](https://pythondiscord.com/) or [r/Python](https://www.reddit.com/r/Python/).\\n\\n---\\n\\n### **7. Build a Portfolio**\\n- Host your projects on [GitHub](https://github.com/).\\n- Create a personal blog or website to showcase your work.\\n\\n---\\n\\n### **Example: Your First Python Program**\\n```python\\n# A simple program to greet the user\\nname = input(\"What\\'s your name? \")\\nprint(f\"Hello, {name}! Welcome to Python programming.\")\\n```\\n\\n---\\n\\n**Remember**: Consistency is key! Practice daily, even for 15–30 minutes. Start small, and gradually tackle bigger challenges. You’ve got this! 🚀\\n\\nLet me know if you\\'d like help with specific topics or projects! 😊', additional_kwargs={}, response_metadata={'token_usage': {'completion_tokens': 1611, 'prompt_tokens': 54, 'total_tokens': 1665, 'completion_time': 3.104822096, 'prompt_time': 0.006210787, 'queue_time': 0.055318692999999995, 'total_time': 3.111032883}, 'model_name': 'qwen/qwen3-32b', 'system_fingerprint': 'fp_8487b76fd3', 'service_tier': 'on_demand', 'finish_reason': 'stop', 'logprobs': None}, id='run--99cb1727-ce75-4854-82f8-0da317206735-0', usage_metadata={'input_tokens': 54, 'output_tokens': 1611, 'total_tokens': 1665})"
      ]
     },
     "execution_count": 4,
     "metadata": {},
     "output_type": "execute_result"
    }
   ],
   "source": [
    "result"
   ]
  },
  {
   "cell_type": "code",
   "execution_count": 5,
   "id": "1825cdf3",
   "metadata": {},
   "outputs": [
    {
     "data": {
      "text/plain": [
       "{'token_usage': {'completion_tokens': 1611,\n",
       "  'prompt_tokens': 54,\n",
       "  'total_tokens': 1665,\n",
       "  'completion_time': 3.104822096,\n",
       "  'prompt_time': 0.006210787,\n",
       "  'queue_time': 0.055318692999999995,\n",
       "  'total_time': 3.111032883},\n",
       " 'model_name': 'qwen/qwen3-32b',\n",
       " 'system_fingerprint': 'fp_8487b76fd3',\n",
       " 'service_tier': 'on_demand',\n",
       " 'finish_reason': 'stop',\n",
       " 'logprobs': None}"
      ]
     },
     "execution_count": 5,
     "metadata": {},
     "output_type": "execute_result"
    }
   ],
   "source": [
    "result.response_metadata"
   ]
  },
  {
   "cell_type": "markdown",
   "id": "5fbf7038",
   "metadata": {},
   "source": [
    "### Tools\n",
    "Tools can be integrated with the LLM models to interact with external systems. External systems can be API's, third party tools.\n",
    "\n",
    "Whenever a query is asked the model can choose to call the tool and this query is based on the \n",
    "natural language input and this will return an output that matches the tool's schema"
   ]
  },
  {
   "cell_type": "code",
   "execution_count": 6,
   "id": "b2f7920e",
   "metadata": {},
   "outputs": [],
   "source": [
    "def add(a:int,b:int)-> int:\n",
    "    \"\"\"\n",
    "    Args:\n",
    "    a (int): first int\n",
    "    b (int): second int\n",
    "\n",
    "    Returns:\n",
    "       int  \n",
    "    \"\"\"\n",
    "    return a+b\n",
    "    "
   ]
  },
  {
   "cell_type": "code",
   "execution_count": 7,
   "id": "71e8459b",
   "metadata": {},
   "outputs": [
    {
     "data": {
      "text/plain": [
       "ChatGroq(client=<groq.resources.chat.completions.Completions object at 0x000001C7BD1FEAB0>, async_client=<groq.resources.chat.completions.AsyncCompletions object at 0x000001C7BD34A3C0>, model_name='qwen/qwen3-32b', model_kwargs={}, groq_api_key=SecretStr('**********'))"
      ]
     },
     "execution_count": 7,
     "metadata": {},
     "output_type": "execute_result"
    }
   ],
   "source": [
    "llm"
   ]
  },
  {
   "cell_type": "code",
   "execution_count": 8,
   "id": "e0e16468",
   "metadata": {},
   "outputs": [],
   "source": [
    "## Binding tool with llm\n",
    "\n",
    "llm_with_tools=llm.bind_tools([add])\n",
    "tool_call=llm_with_tools.invoke([HumanMessage(content=f\"what is 2 plus 2\",name=\"suman\")])"
   ]
  },
  {
   "cell_type": "code",
   "execution_count": 9,
   "id": "fc75f7f2",
   "metadata": {},
   "outputs": [
    {
     "data": {
      "text/plain": [
       "AIMessage(content='', additional_kwargs={'reasoning_content': 'Okay, the user is asking \"what is 2 plus 2\". Let me see. I need to figure out if I should use the add function provided. The function takes two integers, a and b. The question is straightforward addition. So, 2 plus 2 would be the same as adding a=2 and b=2. I should call the add function with those parameters. There\\'s no ambiguity here, so using the tool makes sense. Let me make sure the parameters are correct. Yep, both are integers. The required fields are a and b, which are both present. So the tool call should be {\"name\": \"add\", \"arguments\": {\"a\": 2, \"b\": 2}}. That should give the user the correct answer.\\n', 'tool_calls': [{'id': 'z2tmcqs13', 'function': {'arguments': '{\"a\":2,\"b\":2}', 'name': 'add'}, 'type': 'function'}]}, response_metadata={'token_usage': {'completion_tokens': 187, 'prompt_tokens': 167, 'total_tokens': 354, 'completion_time': 0.334253099, 'prompt_time': 0.006421634, 'queue_time': 0.051133885999999996, 'total_time': 0.340674733}, 'model_name': 'qwen/qwen3-32b', 'system_fingerprint': 'fp_8487b76fd3', 'service_tier': 'on_demand', 'finish_reason': 'tool_calls', 'logprobs': None}, id='run--6124a904-6fdc-43d1-b3e9-b0eefadb3e9c-0', tool_calls=[{'name': 'add', 'args': {'a': 2, 'b': 2}, 'id': 'z2tmcqs13', 'type': 'tool_call'}], usage_metadata={'input_tokens': 167, 'output_tokens': 187, 'total_tokens': 354})"
      ]
     },
     "execution_count": 9,
     "metadata": {},
     "output_type": "execute_result"
    }
   ],
   "source": [
    "tool_call"
   ]
  },
  {
   "cell_type": "code",
   "execution_count": 10,
   "id": "8458f5cc",
   "metadata": {},
   "outputs": [
    {
     "data": {
      "text/plain": [
       "[{'name': 'add',\n",
       "  'args': {'a': 2, 'b': 2},\n",
       "  'id': 'z2tmcqs13',\n",
       "  'type': 'tool_call'}]"
      ]
     },
     "execution_count": 10,
     "metadata": {},
     "output_type": "execute_result"
    }
   ],
   "source": [
    "tool_call.tool_calls"
   ]
  },
  {
   "cell_type": "markdown",
   "id": "676ed4c9",
   "metadata": {},
   "source": [
    "### Using messages as state"
   ]
  },
  {
   "cell_type": "code",
   "execution_count": 11,
   "id": "e6cd6ba4",
   "metadata": {},
   "outputs": [],
   "source": [
    "from typing_extensions import TypedDict\n",
    "from langchain_core.messages import AnyMessage\n",
    "\n",
    "class State(TypedDict):\n",
    "    message:list[AnyMessage]"
   ]
  },
  {
   "cell_type": "markdown",
   "id": "aeedc8c3",
   "metadata": {},
   "source": [
    "#### Reducers\n",
    "Now, we have a minor problem!\n",
    "\n",
    "As we discussed, each node will return a new value for our state key messages.\n",
    "\n",
    "But, this new value will override the prior messages value.\n",
    "\n",
    "As our graph runs, we want to append messages to our messages state key.\n",
    "\n",
    "We can use reducer functions to address this.\n",
    "\n",
    "Reducers allow us to specify how state updates are performed.\n",
    "\n",
    "If no reducer function is specified, then it is assumed that updates to the key should override it as we saw before.\n",
    "\n",
    "But, to append messages, we can use the pre-built add_messages reducer.\n",
    "\n",
    "This ensures that any messages are appended to the existing list of messages.\n",
    "\n",
    "We simply need to annotate our messages key with the add_messages reducer function as metadata."
   ]
  },
  {
   "cell_type": "code",
   "execution_count": 12,
   "id": "924c17dd",
   "metadata": {},
   "outputs": [],
   "source": [
    "from langgraph.graph.message import add_messages\n",
    "from typing import Annotated\n",
    "\n",
    "class State(TypedDict):\n",
    "    messages:Annotated[list[AnyMessage],add_messages]\n",
    "    "
   ]
  },
  {
   "cell_type": "markdown",
   "id": "e0d8f53b",
   "metadata": {},
   "source": [
    "### Reducers with add_messages"
   ]
  },
  {
   "cell_type": "code",
   "execution_count": 13,
   "id": "032da274",
   "metadata": {},
   "outputs": [
    {
     "data": {
      "text/plain": [
       "[AIMessage(content='Please tell me how can I help', additional_kwargs={}, response_metadata={}, name='LLMModel'),\n",
       " HumanMessage(content='I want to learn coding', additional_kwargs={}, response_metadata={}, name='Krish')]"
      ]
     },
     "execution_count": 13,
     "metadata": {},
     "output_type": "execute_result"
    }
   ],
   "source": [
    "initial_messages=[AIMessage(content=f\"Please tell me how can I help\",name=\"LLMModel\")]\n",
    "initial_messages.append(HumanMessage(content=f\"I want to learn coding\",name=\"Krish\"))\n",
    "initial_messages"
   ]
  },
  {
   "cell_type": "code",
   "execution_count": 14,
   "id": "3d0ffca5",
   "metadata": {},
   "outputs": [
    {
     "data": {
      "text/plain": [
       "AIMessage(content='Which programming language you want to learn', additional_kwargs={}, response_metadata={}, name='LLMModel')"
      ]
     },
     "execution_count": 14,
     "metadata": {},
     "output_type": "execute_result"
    }
   ],
   "source": [
    "ai_message=AIMessage(content=f\"Which programming language you want to learn\",name=\"LLMModel\")\n",
    "ai_message"
   ]
  },
  {
   "cell_type": "code",
   "execution_count": 15,
   "id": "b6e0d802",
   "metadata": {},
   "outputs": [
    {
     "data": {
      "text/plain": [
       "[AIMessage(content='Please tell me how can I help', additional_kwargs={}, response_metadata={}, name='LLMModel', id='79ec9a2d-65aa-4d32-8ca5-ea339700afca'),\n",
       " HumanMessage(content='I want to learn coding', additional_kwargs={}, response_metadata={}, name='Krish', id='45ecdb59-0c4d-4cd1-af8b-f81aa43373b5'),\n",
       " AIMessage(content='Which programming language you want to learn', additional_kwargs={}, response_metadata={}, name='LLMModel', id='940edb99-405f-43b8-8472-270b5359953d')]"
      ]
     },
     "execution_count": 15,
     "metadata": {},
     "output_type": "execute_result"
    }
   ],
   "source": [
    "### Reducers add_messages is to append instead of override\n",
    "add_messages(initial_messages,ai_message)"
   ]
  },
  {
   "cell_type": "code",
   "execution_count": 16,
   "id": "c090bc9c",
   "metadata": {},
   "outputs": [],
   "source": [
    "## Chatbot node functionality\n",
    "def llm_tool(state:State):\n",
    "    return {\"messages\":[llm_with_tools.invoke(state[\"messages\"])]}"
   ]
  },
  {
   "cell_type": "code",
   "execution_count": 17,
   "id": "5df797a8",
   "metadata": {},
   "outputs": [
    {
     "data": {
      "image/png": "[encoded data removed]",
      "text/plain": [
       "<IPython.core.display.Image object>"
      ]
     },
     "metadata": {},
     "output_type": "display_data"
    }
   ],
   "source": [
    "from IPython.display import Image ,display\n",
    "from langgraph.graph import StateGraph ,START,END\n",
    "builder=StateGraph(State)\n",
    "builder.add_node(\"llm_tool\",llm_tool)\n",
    "\n",
    "builder.add_edge(START,\"llm_tool\")\n",
    "builder.add_edge('llm_tool',END)\n",
    "\n",
    "graph=builder.compile()\n",
    "\n",
    "display(Image(graph.get_graph().draw_mermaid_png()))"
   ]
  },
  {
   "cell_type": "code",
   "execution_count": 18,
   "id": "4cbc6340",
   "metadata": {},
   "outputs": [
    {
     "name": "stdout",
     "output_type": "stream",
     "text": [
      "================================\u001b[1m Human Message \u001b[0m=================================\n",
      "\n",
      "what is 2 plus 2\n",
      "==================================\u001b[1m Ai Message \u001b[0m==================================\n",
      "Tool Calls:\n",
      "  add (k8w6sq675)\n",
      " Call ID: k8w6sq675\n",
      "  Args:\n",
      "    a: 2\n",
      "    b: 2\n"
     ]
    }
   ],
   "source": [
    "##invocation\n",
    "messages=graph.invoke({\"messages\":\"what is 2 plus 2\"})\n",
    "for message in messages[\"messages\"]:\n",
    "    message.pretty_print()"
   ]
  },
  {
   "cell_type": "code",
   "execution_count": 19,
   "id": "1e251006",
   "metadata": {},
   "outputs": [],
   "source": [
    "tools=[add]"
   ]
  },
  {
   "cell_type": "code",
   "execution_count": 20,
   "id": "9664a292",
   "metadata": {},
   "outputs": [],
   "source": [
    "from langgraph.prebuilt import ToolNode\n",
    "from langgraph.prebuilt import tools_condition\n",
    "\n",
    "builder=StateGraph(State)\n",
    "\n",
    "#Add nodes\n",
    "builder.add_node(\"llm_tool\",llm_tool)\n",
    "builder.add_node(\"tools\",ToolNode(tools))\n",
    "# Add Edge\n",
    "\n",
    "builder.add_edge(START,\"llm_tool\")\n",
    "builder.add_conditional_edges(\"llm_tool\",tools_condition)\n",
    "# If the latest message (result) from assistant is a tool call -> tools_condition routes to tools\n",
    "# If the latest message (result) from assistant is a not a tool call -> tools_condition routes to END\n",
    "\n",
    "builder.add_edge('tools',END)\n",
    "\n",
    "graph_builder=builder.compile()\n",
    "\n"
   ]
  },
  {
   "cell_type": "code",
   "execution_count": 22,
   "id": "0226a50c",
   "metadata": {},
   "outputs": [
    {
     "data": {
      "image/png": "[encoded data removed]",
      "text/plain": [
       "<IPython.core.display.Image object>"
      ]
     },
     "metadata": {},
     "output_type": "display_data"
    }
   ],
   "source": [
    "display(Image(graph_builder.get_graph().draw_mermaid_png()))"
   ]
  },
  {
   "cell_type": "code",
   "execution_count": 23,
   "id": "a3cdd732",
   "metadata": {},
   "outputs": [
    {
     "name": "stdout",
     "output_type": "stream",
     "text": [
      "================================\u001b[1m Human Message \u001b[0m=================================\n",
      "\n",
      "What is 2 plus 2\n",
      "==================================\u001b[1m Ai Message \u001b[0m==================================\n",
      "Tool Calls:\n",
      "  add (5mfn70t88)\n",
      " Call ID: 5mfn70t88\n",
      "  Args:\n",
      "    a: 2\n",
      "    b: 2\n",
      "=================================\u001b[1m Tool Message \u001b[0m=================================\n",
      "Name: add\n",
      "\n",
      "4\n"
     ]
    }
   ],
   "source": [
    "## invocation\n",
    "\n",
    "messages=graph_builder.invoke({\"messages\":\"What is 2 plus 2\"})\n",
    "\n",
    "for message in messages[\"messages\"]:\n",
    "    message.pretty_print()"
   ]
  },
  {
   "cell_type": "code",
   "execution_count": 24,
   "id": "6e858df7",
   "metadata": {},
   "outputs": [
    {
     "name": "stdout",
     "output_type": "stream",
     "text": [
      "================================\u001b[1m Human Message \u001b[0m=================================\n",
      "\n",
      "What Machine Learning\n",
      "==================================\u001b[1m Ai Message \u001b[0m==================================\n",
      "\n",
      "Machine learning is a subset of artificial intelligence (AI) that focuses on building systems that can learn patterns and make decisions from data, without being explicitly programmed for specific tasks. Instead of following strict rules, machine learning models improve their performance over time by analyzing examples and identifying underlying patterns.\n",
      "\n",
      "**Key concepts include:**\n",
      "1. **Supervised Learning**: Uses labeled data (input-output pairs) to train models (e.g., predicting house prices based on features like size and location).\n",
      "2. **Unsupervised Learning**: Finds hidden patterns in unlabeled data (e.g., grouping customers into segments).\n",
      "3. **Reinforcement Learning**: Learns by interacting with an environment to maximize rewards (e.g., training a robot to walk).\n",
      "\n",
      "**Applications**: Image recognition, natural language processing, recommendation systems, fraud detection, and more. It’s widely used in industries like healthcare, finance, and autonomous vehicles.\n",
      "\n",
      "At its core, machine learning relies on algorithms and statistical techniques to adapt and generalize from data.\n"
     ]
    }
   ],
   "source": [
    "messages=graph.invoke({\"messages\":\"What Machine Learning\"})\n",
    "\n",
    "for message in messages[\"messages\"]:\n",
    "    message.pretty_print()"
   ]
  },
  {
   "cell_type": "code",
   "execution_count": null,
   "id": "449ff33c",
   "metadata": {},
   "outputs": [],
   "source": []
  },
  {
   "cell_type": "code",
   "execution_count": null,
   "id": "2c094669",
   "metadata": {},
   "outputs": [],
   "source": []
  },
  {
   "cell_type": "code",
   "execution_count": null,
   "id": "bbc98418",
   "metadata": {},
   "outputs": [],
   "source": []
  },
  {
   "cell_type": "code",
   "execution_count": null,
   "id": "2265834a",
   "metadata": {},
   "outputs": [],
   "source": []
  }
 ],
 "metadata": {
  "kernelspec": {
   "display_name": "Python 3",
   "language": "python",
   "name": "python3"
  },
  "language_info": {
   "codemirror_mode": {
    "name": "ipython",
    "version": 3
   },
   "file_extension": ".py",
   "mimetype": "text/x-python",
   "name": "python",
   "nbconvert_exporter": "python",
   "pygments_lexer": "ipython3",
   "version": "3.12.0"
  }
 },
 "nbformat": 4,
 "nbformat_minor": 5
}
