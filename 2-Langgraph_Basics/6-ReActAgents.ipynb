{
 "cells": [
  {
   "cell_type": "markdown",
   "id": "0e3708ce",
   "metadata": {},
   "source": [
    "### ReAct Agent Architecture\n",
    "\n",
    "#### Aim\n",
    "This is the intuition behind ReAct, a general agent architecture.\n",
    "\n",
    "1. act - let the model call specific tools\n",
    "2. observe - pass the tool output back to the model\n",
    "3. reason - let the model reason about the tool output to decide what to do next (e.g., call another tool or just respond directly)\n",
    "\n",
    "![image.png](attachment:image.png)"
   ]
  },
  {
   "cell_type": "code",
   "execution_count": 1,
   "id": "e3864dd1",
   "metadata": {},
   "outputs": [],
   "source": [
    "from langchain_community.tools import ArxivQueryRun,WikipediaQueryRun\n",
    "from langchain_community.utilities import WikipediaAPIWrapper ,ArxivAPIWrapper"
   ]
  },
  {
   "cell_type": "code",
   "execution_count": 2,
   "id": "f672c8af",
   "metadata": {},
   "outputs": [
    {
     "name": "stdout",
     "output_type": "stream",
     "text": [
      "arxiv\n"
     ]
    }
   ],
   "source": [
    "api_wrapper_arxiv=ArxivAPIWrapper(top_k_results=2,doc_content_chars_max=500)\n",
    "arxiv=ArxivQueryRun(api_wrapper=api_wrapper_arxiv)\n",
    "print(arxiv.name)"
   ]
  },
  {
   "cell_type": "code",
   "execution_count": 3,
   "id": "33bc96c2",
   "metadata": {},
   "outputs": [
    {
     "data": {
      "text/plain": [
       "\"Published: 2024-07-22\\nTitle: Attention Is All You Need But You Don't Need All Of It For Inference of Large Language Models\\nAuthors: Georgy Tyukin, Gbetondji J-S Dovonon, Jean Kaddour, Pasquale Minervini\\nSummary: The inference demand for LLMs has skyrocketed in recent months, and serving\\nmodels with low latencies remains challenging due to the quadratic input length\\ncomplexity of the attention layers. In this work, we investigate the effect of\\ndropping MLP and attention layers at inference time o\""
      ]
     },
     "execution_count": 3,
     "metadata": {},
     "output_type": "execute_result"
    }
   ],
   "source": [
    "arxiv.invoke(\"attention is all you need\")"
   ]
  },
  {
   "cell_type": "code",
   "execution_count": 4,
   "id": "7f85a5e3",
   "metadata": {},
   "outputs": [
    {
     "data": {
      "text/plain": [
       "'wikipedia'"
      ]
     },
     "execution_count": 4,
     "metadata": {},
     "output_type": "execute_result"
    }
   ],
   "source": [
    "api_wrapper_wiki=WikipediaAPIWrapper(top_k_results=1,doc_content_chars_max=500)\n",
    "wiki=WikipediaQueryRun(api_wrapper=api_wrapper_wiki)\n",
    "wiki.name"
   ]
  },
  {
   "cell_type": "code",
   "execution_count": 5,
   "id": "fab4e87b",
   "metadata": {},
   "outputs": [],
   "source": [
    "from dotenv import load_dotenv\n",
    "load_dotenv()\n",
    "\n",
    "import os\n",
    "\n",
    "os.environ[\"TAVILY_API_KEY\"]=os.getenv(\"TAVILY_API_KEY\")\n",
    "os.environ[\"GROQ_API_KEY\"]=os.getenv(\"GROQ_API_KEY\")\n",
    "os.environ[\"LANGCHAIN_API_KEY\"]=os.getenv(\"LANGCHAIN_API_KEY\")\n",
    "os.environ[\"LANGCHAIN_TRACING_v2\"]=\"true\"\n",
    "\n",
    "os.environ[\"LANGCHAIN_PROJECT\"]=\"React_Agent\""
   ]
  },
  {
   "cell_type": "code",
   "execution_count": 6,
   "id": "f045760d",
   "metadata": {},
   "outputs": [],
   "source": [
    "### Custom Functions\n",
    "def multiply(a: int, b: int) -> int:\n",
    "    \"\"\"Multiply a and b.\n",
    "\n",
    "    Args:\n",
    "        a: first int\n",
    "        b: second int\n",
    "    \"\"\"\n",
    "    return a * b\n",
    "\n",
    "# This will be a tool\n",
    "def add(a: int, b: int) -> int:\n",
    "    \"\"\"Adds a and b.\n",
    "\n",
    "    Args:\n",
    "        a: first int\n",
    "        b: second int\n",
    "    \"\"\"\n",
    "    return a + b\n",
    "\n",
    "def divide(a: int, b: int) -> float:\n",
    "    \"\"\"Divide a and b.\n",
    "\n",
    "    Args:\n",
    "        a: first int\n",
    "        b: second int\n",
    "    \"\"\"\n",
    "    return a / b\n",
    "\n"
   ]
  },
  {
   "cell_type": "code",
   "execution_count": 7,
   "id": "5bf08147",
   "metadata": {},
   "outputs": [
    {
     "name": "stderr",
     "output_type": "stream",
     "text": [
      "C:\\Users\\Suman Vemula\\AppData\\Local\\Temp\\ipykernel_1692\\3584238.py:4: LangChainDeprecationWarning: The class `TavilySearchResults` was deprecated in LangChain 0.3.25 and will be removed in 1.0. An updated version of the class exists in the :class:`~langchain-tavily package and should be used instead. To use it run `pip install -U :class:`~langchain-tavily` and import as `from :class:`~langchain_tavily import TavilySearch``.\n",
      "  tavily = TavilySearchResults()\n"
     ]
    }
   ],
   "source": [
    "### Tavily Search Tool\n",
    "from langchain_community.tools.tavily_search import TavilySearchResults\n",
    "\n",
    "tavily = TavilySearchResults()"
   ]
  },
  {
   "cell_type": "code",
   "execution_count": 8,
   "id": "39ffcc68",
   "metadata": {},
   "outputs": [
    {
     "data": {
      "text/plain": [
       "[{'title': 'Top 5 AI trends in March 2025: AI agents, smarter supply ... - Neudesic',\n",
       "  'url': 'https://www.neudesic.com/blog/top-5-ai-trends-march-2025/',\n",
       "  'content': 'March 2025 has brought a fresh wave of AI innovations that go beyond theoretical breakthroughs and translate directly into real-world impact. From OpenAI’s newly released tools for building AI agents to Microsoft’s external knowledge integration approach, this month’s highlights underscore how artificial intelligence is evolving in ways that matter today, not just tomorrow. Whether it’s optimizing supply chains, pushing the limits of robotics, or making AI systems smarter and more trustworthy, [...] Below, we delve into five top AI trends from March 2025 and explore the practical ways they’re changing industries—from retail to robotics—and setting the stage for what’s ahead. \\n\\n## 1. OpenAI Releases New Tools for Building AI Agents [...] This month’s advancements in AI reinforce a clear trajectory: artificial intelligence is no longer just a tool for automation—it’s becoming an essential collaborator in research, business, and even the physical world. As AI systems grow more capable, intuitive, and embedded in enterprise and consumer applications, the focus shifts from innovation alone to strategic implementation. Organizations that adapt to this shift will be best positioned to harness AI’s full potential, while those who lag',\n",
       "  'score': 0.9051298},\n",
       " {'title': 'The latest AI news we announced in March - Google Blog',\n",
       "  'url': 'https://blog.google/technology/ai/google-ai-updates-march-2025/',\n",
       "  'content': '# The latest AI news we announced in March\\n\\nApr 04, 2025\\n\\nHere’s a recap of some of our biggest AI updates from March, including Gemini 2.5 Pro, expanded access to AI Overviews, the release of AI Mode and more.\\n\\nSuperG\\n\\n## General summary [...] Google made significant progress in AI during March. They expanded access to AI Overviews and introduced AI Mode in Search, making it easier to find answers and explore topics. They also released Gemini 2.5 Pro, their most intelligent AI model, and Gemini Robotics, which aims to bring AI into the physical world. Google is also using AI to help developers create applications, detect wildfires, and protect nature.\\n\\n## Shakespeare-ish [...] Google made significant progress in AI during March. They expanded access to AI Overviews and introduced AI Mode in Search, making it easier to find answers and explore topics. They also released Gemini 2.5 Pro, their most intelligent AI model, and Gemini Robotics, which aims to bring AI into the physical world. Google is also using AI to help developers create applications, detect wildfires, and protect nature.',\n",
       "  'score': 0.8351749},\n",
       " {'title': 'March 2025 AI Developments Under the Trump Administration',\n",
       "  'url': 'https://www.insidegovernmentcontracts.com/2025/04/march-2025-ai-developments-under-the-trump-administration/',\n",
       "  'content': 'This blog describes AI actions taken by the Trump Administration in March 2025, and prior articles in this series are available here.',\n",
       "  'score': 0.73207545},\n",
       " {'title': 'Artificial intelligence (AI) | Technology | The Guardian',\n",
       "  'url': 'https://www.theguardian.com/technology/artificialintelligenceai/2025/mar/03/all',\n",
       "  'content': '### The LA Times published an op-ed warning of AI’s dangers. It also published its AI tool’s reply\\n\\n### LA Times to display AI-generated political rating on opinion pieces\\n\\n### Paris trials dedicated car-sharing lane on its notoriously congested ring road\\n\\n### Parents and teachers: how are you introducing AI to younger children?\\n\\n### What’s the worst that can happen if Labor wins the election? Six-toed nightmares if online trends hold [...] ### UK unions call for action to protect creative industry workers as AI develops',\n",
       "  'score': 0.5010992},\n",
       " {'title': \"To Make Sure AI Advances Democracy, First Ask, 'Who Does It Serve?'\",\n",
       "  'url': 'https://www.techpolicy.press/to-make-sure-ai-advances-democracy-first-ask-who-does-it-serve/',\n",
       "  'content': 'AI must serve the people who use it to engage in free expression and make democratic decisions, writes Richard Reisman.',\n",
       "  'score': 0.11993307}]"
      ]
     },
     "execution_count": 8,
     "metadata": {},
     "output_type": "execute_result"
    }
   ],
   "source": [
    "tavily.invoke(\"Provide me the recent AI news for march 3rd 2025\")"
   ]
  },
  {
   "cell_type": "code",
   "execution_count": 9,
   "id": "31020564",
   "metadata": {},
   "outputs": [],
   "source": [
    "### Combine all the tools in the list\n",
    "\n",
    "tools=[arxiv,wiki,tavily,add,divide,multiply]"
   ]
  },
  {
   "cell_type": "code",
   "execution_count": null,
   "id": "c3fdc103",
   "metadata": {},
   "outputs": [],
   "source": [
    "## Initialize my LLM model\n",
    "\n",
    "from langchain_groq import ChatGroq\n",
    "\n",
    "llm=ChatGroq(model=\"qwen/qwen3-32b\")\n",
    "\n",
    "llm_with_tools=llm.bind_tools(tools)\n"
   ]
  },
  {
   "cell_type": "code",
   "execution_count": 11,
   "id": "55c65474",
   "metadata": {},
   "outputs": [
    {
     "data": {
      "text/plain": [
       "AIMessage(content='', additional_kwargs={'reasoning_content': 'Okay, the user is asking for recent AI news. Let me see which tool I can use here. The available tools are arxiv, wikipedia, tavily_search_results_json, and the math functions. Since they want news, arxiv might have recent papers, but maybe tavily_search_results_json is better for general news. Let me check the description of tavily. The description says it\\'s for search query results in JSON format. That sounds suitable for finding recent news articles. So I should use tavily_search_results_json with the query \"recent AI news\". I\\'ll make sure to format the tool call correctly as specified.\\n', 'tool_calls': [{'id': 'n7xn5w2sr', 'function': {'arguments': '{\"query\":\"recent AI news\"}', 'name': 'tavily_search_results_json'}, 'type': 'function'}]}, response_metadata={'token_usage': {'completion_tokens': 157, 'prompt_tokens': 476, 'total_tokens': 633, 'completion_time': 0.29940056, 'prompt_time': 0.019787361, 'queue_time': 0.057122719, 'total_time': 0.319187921}, 'model_name': 'qwen/qwen3-32b', 'system_fingerprint': 'fp_8487b76fd3', 'service_tier': 'on_demand', 'finish_reason': 'tool_calls', 'logprobs': None}, id='run--df8cfcb8-dba4-4b17-8cf9-a8144b302a7d-0', tool_calls=[{'name': 'tavily_search_results_json', 'args': {'query': 'recent AI news'}, 'id': 'n7xn5w2sr', 'type': 'tool_call'}], usage_metadata={'input_tokens': 476, 'output_tokens': 157, 'total_tokens': 633})"
      ]
     },
     "execution_count": 11,
     "metadata": {},
     "output_type": "execute_result"
    }
   ],
   "source": [
    "from pprint import pprint\n",
    "from langchain_core.messages import AIMessage, HumanMessage\n",
    "llm_with_tools.invoke([HumanMessage(content=f\"What is the recent AI News\")])"
   ]
  },
  {
   "cell_type": "code",
   "execution_count": 12,
   "id": "abf28fbd",
   "metadata": {},
   "outputs": [
    {
     "data": {
      "text/plain": [
       "[{'name': 'tavily_search_results_json',\n",
       "  'args': {'query': 'recent AI news'},\n",
       "  'id': '0kyajp6wz',\n",
       "  'type': 'tool_call'}]"
      ]
     },
     "execution_count": 12,
     "metadata": {},
     "output_type": "execute_result"
    }
   ],
   "source": [
    "llm_with_tools.invoke([HumanMessage(content=f\"What is the recent AI News\")]).tool_calls"
   ]
  },
  {
   "cell_type": "code",
   "execution_count": 13,
   "id": "551a3cd1",
   "metadata": {},
   "outputs": [],
   "source": [
    "## State Schema\n",
    "from typing_extensions import TypedDict\n",
    "from langchain_core.messages import AnyMessage\n",
    "from typing import Annotated\n",
    "from langgraph.graph.message import add_messages\n",
    "class State(TypedDict):\n",
    "    messages:Annotated[list[AnyMessage],add_messages]"
   ]
  },
  {
   "cell_type": "code",
   "execution_count": 14,
   "id": "4f58fbd2",
   "metadata": {},
   "outputs": [
    {
     "data": {
      "image/png": "[encoded data removed]",
      "text/plain": [
       "<IPython.core.display.Image object>"
      ]
     },
     "metadata": {},
     "output_type": "display_data"
    }
   ],
   "source": [
    "### Entire Chatbot With LangGraph\n",
    "from IPython.display import Image, display\n",
    "from langgraph.graph import StateGraph, START, END\n",
    "from langgraph.prebuilt import ToolNode\n",
    "from langgraph.prebuilt import tools_condition\n",
    "\n",
    "### Node definition\n",
    "def tool_calling_llm(state:State):\n",
    "    return {\"messages\":[llm_with_tools.invoke(state[\"messages\"])]}\n",
    "\n",
    "# Build graph\n",
    "builder = StateGraph(State)\n",
    "builder.add_node(\"tool_calling_llm\", tool_calling_llm)\n",
    "builder.add_node(\"tools\", ToolNode(tools))\n",
    "\n",
    "builder.add_edge(START, \"tool_calling_llm\")\n",
    "builder.add_conditional_edges(\n",
    "    \"tool_calling_llm\",\n",
    "    # If the latest message (result) from assistant is a tool call -> tools_condition routes to tools\n",
    "    # If the latest message (result) from assistant is a not a tool call -> tools_condition routes to END\n",
    "    tools_condition,\n",
    ")\n",
    "builder.add_edge(\"tools\",\"tool_calling_llm\")\n",
    "\n",
    "\n",
    "graph = builder.compile()\n",
    "\n",
    "# View\n",
    "display(Image(graph.get_graph().draw_mermaid_png()))\n"
   ]
  },
  {
   "cell_type": "code",
   "execution_count": 15,
   "id": "af05fa67",
   "metadata": {},
   "outputs": [
    {
     "name": "stdout",
     "output_type": "stream",
     "text": [
      "================================\u001b[1m Human Message \u001b[0m=================================\n",
      "\n",
      "Provide me the top 10 recent AI news for MArch 3rd 2025,add 5 plus 5 and then multiply by 10\n",
      "==================================\u001b[1m Ai Message \u001b[0m==================================\n",
      "Tool Calls:\n",
      "  tavily_search_results_json (t69d4twc3)\n",
      " Call ID: t69d4twc3\n",
      "  Args:\n",
      "    query: top 10 recent AI news March 3rd 2025\n",
      "  add (ajhfjvfqz)\n",
      " Call ID: ajhfjvfqz\n",
      "  Args:\n",
      "    a: 5\n",
      "    b: 5\n",
      "=================================\u001b[1m Tool Message \u001b[0m=================================\n",
      "Name: tavily_search_results_json\n",
      "\n",
      "[{\"title\": \"Top 5 AI trends in March 2025: AI agents, smarter supply ... - Neudesic\", \"url\": \"https://www.neudesic.com/blog/top-5-ai-trends-march-2025/\", \"content\": \"March 2025 has brought a fresh wave of AI innovations that go beyond theoretical breakthroughs and translate directly into real-world impact. From OpenAI’s newly released tools for building AI agents to Microsoft’s external knowledge integration approach, this month’s highlights underscore how artificial intelligence is evolving in ways that matter today, not just tomorrow. Whether it’s optimizing supply chains, pushing the limits of robotics, or making AI systems smarter and more trustworthy, [...] Below, we delve into five top AI trends from March 2025 and explore the practical ways they’re changing industries—from retail to robotics—and setting the stage for what’s ahead. \\n\\n## 1. OpenAI Releases New Tools for Building AI Agents [...] ## 3. Neudesic’s AI-Powered Supply Chain Control Tower\", \"score\": 0.8987045}, {\"title\": \"AI INTELLIGENCE | Weekly Top 10 (3/7/25) - Dwealth.news\", \"url\": \"https://dwealth.news/2025/03/ai-intelligence-weekly-top-10-3-7-25/\", \"content\": \"Dwealth.news Logo\\nDwealth.news Logo\\n\\n# AI INTELLIGENCE | Weekly Top 10 (3/7/25)\\n\\n​The week of March 1 to March 7, 2025, was marked by significant developments in artificial intelligence (AI), reflecting its expanding influence across various sectors. From corporate advancements and strategic shifts to regulatory considerations and ethical debates, these events underscore AI’s transformative impact on technology, security, and society. [...] 9. McDonald’s Implements Predictive AI Technology [...] 8. Meta Accelerates Voice-Powered AI Initiatives\", \"score\": 0.8815438}, {\"title\": \"[AI Weekly] Top 10 AI Breakthroughs You Missed This Week (March ...\", \"url\": \"https://yukitaylor00.medium.com/ai-weekly-top-10-ai-breakthroughs-you-missed-this-week-march-2025-1d742259e5b8\", \"content\": \"Sign up\\n\\nSign in\\n\\nSign up\\n\\nSign in\\n\\n# [AI Weekly] Top 10 AI Breakthroughs You Missed This Week (March 2025)\\n\\n## Explore this week’s most exciting AI news — from OpenAI’s new image generator to Google Gemini 2.5 and Alibaba’s 3D avatar model. A must-read for AI professionals.\\n\\nYuki\\n\\n--\\n\\nListen\\n\\nShare\\n\\n# What a Week in AI: March 2025 Breakthroughs from OpenAI, Google, Alibaba, and More [...] The final week of March 2025 may be remembered as a turning point in AI development history. A wave of releases from OpenAI, Google, Alibaba, Microsoft, and emerging players introduced groundbreaking advances across image generation, AGI benchmarking, multimodal models, and research automation. The sheer breadth and impact of these announcements reflect a rapidly accelerating pace in the AI race, with serious implications for developers, creators, and enterprises alike. [...] The tight coupling of text, vision, and editing features marks a new milestone in multimodal fluency, where the AI doesn’t just interpret prompts — it becomes a creative partner.\\n\\n# Final Thoughts: March 2025 Will Be Remembered\", \"score\": 0.8810534}, {\"title\": \"The latest AI news we announced in March - Google Blog\", \"url\": \"https://blog.google/technology/ai/google-ai-updates-march-2025/\", \"content\": \"# The latest AI news we announced in March\\n\\nApr 04, 2025\\n\\nHere’s a recap of some of our biggest AI updates from March, including Gemini 2.5 Pro, expanded access to AI Overviews, the release of AI Mode and more.\\n\\nSuperG\\n\\n## General summary [...] Google made significant progress in AI during March. They expanded access to AI Overviews and introduced AI Mode in Search, making it easier to find answers and explore topics. They also released Gemini 2.5 Pro, their most intelligent AI model, and Gemini Robotics, which aims to bring AI into the physical world. Google is also using AI to help developers create applications, detect wildfires, and protect nature. [...] Google made significant progress in AI during March. They expanded access to AI Overviews and introduced AI Mode in Search, making it easier to find answers and explore topics. They also released Gemini 2.5 Pro, their most intelligent AI model, and Gemini Robotics, which aims to bring AI into the physical world. Google is also using AI to help developers create applications, detect wildfires, and protect nature.\\n\\n## Shakespeare-ish\", \"score\": 0.83710164}, {\"title\": \"AI INTELLIGENCE | Weekly Top 10 (3/21/25) - Dwealth.news\", \"url\": \"https://dwealth.news/2025/03/ai-intelligence-weekly-top-10-3-21-25/\", \"content\": \"8. OpenAI’s Operator Agent Used in Phishing Attack Simulation\\n\\nSecurity vendor Symantec utilized OpenAI’s Operator agent in a proof-of-concept phishing attack, demonstrating how an AI-powered tool could perform basic cyberattacks with minimal prompt engineering. This showcases the potential future risks associated with generative AI-powered agents, emphasizing the need for robust security measures as AI capabilities continue to evolve. ​ [...] 2. Ford Accelerates Innovation with AI and Nvidia GPUs [...] 9. Apple Delays Major AI-Powered Siri Features Indefinitely\\n\\nApple has indefinitely delayed several anticipated AI-driven Siri enhancements, including context awareness, on-screen interactions, and smarter AI-driven responses. The delays are attributed to technical challenges in integrating AI across Apple’s ecosystem, highlighting the complexities involved in advancing AI functionalities in consumer technology.\\n\\n10. Google DeepMind Introduces Gemini Robotics and Gemini Robotics-ER\", \"score\": 0.8016413}]\n",
      "=================================\u001b[1m Tool Message \u001b[0m=================================\n",
      "Name: add\n",
      "\n",
      "10\n",
      "==================================\u001b[1m Ai Message \u001b[0m==================================\n",
      "\n",
      "Here's the information you requested:\n",
      "\n",
      "**Top 5 Recent AI News for March 2025:**\n",
      "1. **OpenAI Releases New Tools for Building AI Agents** (Neudesic)  \n",
      "   *Highlights AI advancements in supply chain optimization, robotics, and trustworthy systems.*\n",
      "\n",
      "2. **AI INTELLIGENCE Weekly Top 10 (3/7/25)** (Dwealth.news)  \n",
      "   *Covers McDonald’s predictive AI and Meta’s voice-powered AI initiatives.*\n",
      "\n",
      "3. **Top 10 AI Breakthroughs in March 2025** (Medium)  \n",
      "   *Features OpenAI’s image generator, Google Gemini 2.5, and Alibaba’s 3D avatar model.*\n",
      "\n",
      "4. **Google’s March AI Updates** (Google Blog)  \n",
      "   *Includes Gemini 2.5 Pro, AI Mode in Search, and wildfire detection using AI.*\n",
      "\n",
      "5. **OpenAI’s Operator Agent in Cybersecurity Simulation** (Dwealth.news)  \n",
      "   *Symantec demonstrated AI-driven phishing attacks, raising security concerns.*\n",
      "\n",
      "**Math Result:**  \n",
      "(5 + 5) * 10 = **100**  \n",
      "\n",
      "Let me know if you need further details!\n"
     ]
    }
   ],
   "source": [
    "messages=graph.invoke({\"messages\":HumanMessage(content=\"Provide me the top 10 recent AI news for MArch 3rd 2025,add 5 plus 5 and then multiply by 10\")})\n",
    "for m in messages['messages']:\n",
    "    m.pretty_print()"
   ]
  },
  {
   "cell_type": "code",
   "execution_count": 16,
   "id": "2c80184d",
   "metadata": {},
   "outputs": [
    {
     "name": "stdout",
     "output_type": "stream",
     "text": [
      "================================\u001b[1m Human Message \u001b[0m=================================\n",
      "\n",
      "What is machine learning\n",
      "==================================\u001b[1m Ai Message \u001b[0m==================================\n",
      "Tool Calls:\n",
      "  wikipedia (erzqrdxwa)\n",
      " Call ID: erzqrdxwa\n",
      "  Args:\n",
      "    query: Machine learning\n",
      "=================================\u001b[1m Tool Message \u001b[0m=================================\n",
      "Name: wikipedia\n",
      "\n",
      "Page: Machine learning\n",
      "Summary: Machine learning (ML) is a field of study in artificial intelligence concerned with the development and study of statistical algorithms that can learn from data and generalise to unseen data, and thus perform tasks without explicit instructions. Within a subdiscipline in machine learning, advances in the field of deep learning have allowed neural networks, a class of statistical algorithms, to surpass many previous machine learning approaches in performance.\n",
      "ML fi\n",
      "==================================\u001b[1m Ai Message \u001b[0m==================================\n",
      "\n",
      "Machine learning (ML) is a subset of artificial intelligence (AI) that focuses on developing algorithms capable of learning patterns and making decisions from data, without being explicitly programmed for specific tasks. Instead of relying on rigid instructions, ML models identify statistical patterns in data, enabling them to perform tasks like prediction, classification, or pattern recognition. For example, recommendation systems (e.g., Netflix or Spotify) use ML to suggest content based on user behavior, and spam filters learn to detect unwanted emails by analyzing historical data.\n",
      "\n",
      "Key concepts include:\n",
      "1. **Supervised Learning**: The model is trained on labeled data (e.g., \"this email is spam\") to predict outcomes for new, unseen data.\n",
      "2. **Unsupervised Learning**: The model finds hidden patterns or groupings in unlabeled data (e.g., clustering customers by purchasing habits).\n",
      "3. **Deep Learning**: A subfield using neural networks with multiple layers to analyze complex data, such as images or speech (e.g., facial recognition or language translation).\n",
      "\n",
      "ML is widely applied in healthcare (diagnosis), finance (fraud detection), autonomous vehicles, and more, improving accuracy and efficiency as it processes more data over time.\n"
     ]
    }
   ],
   "source": [
    "messages=graph.invoke({\"messages\":HumanMessage(content=\"What is machine learning\")})\n",
    "for m in messages['messages']:\n",
    "    m.pretty_print()"
   ]
  },
  {
   "cell_type": "markdown",
   "id": "4c6c83ad",
   "metadata": {},
   "source": [
    "### Agent Memory\n",
    "#### Aim\n",
    "Lets introduce Agent With Memory"
   ]
  },
  {
   "cell_type": "code",
   "execution_count": 17,
   "id": "63188096",
   "metadata": {},
   "outputs": [
    {
     "name": "stdout",
     "output_type": "stream",
     "text": [
      "================================\u001b[1m Human Message \u001b[0m=================================\n",
      "\n",
      "What is 5 plus 8\n",
      "==================================\u001b[1m Ai Message \u001b[0m==================================\n",
      "Tool Calls:\n",
      "  add (wqxh5xkpw)\n",
      " Call ID: wqxh5xkpw\n",
      "  Args:\n",
      "    a: 5\n",
      "    b: 8\n",
      "=================================\u001b[1m Tool Message \u001b[0m=================================\n",
      "Name: add\n",
      "\n",
      "13\n",
      "==================================\u001b[1m Ai Message \u001b[0m==================================\n",
      "\n",
      "The result of 5 plus 8 is $\\boxed{13}$.\n"
     ]
    }
   ],
   "source": [
    "messages=graph.invoke({\"messages\":HumanMessage(content=\"What is 5 plus 8\")})\n",
    "for m in messages['messages']:\n",
    "    m.pretty_print()"
   ]
  },
  {
   "cell_type": "code",
   "execution_count": 18,
   "id": "fb03bf8b",
   "metadata": {},
   "outputs": [
    {
     "name": "stdout",
     "output_type": "stream",
     "text": [
      "================================\u001b[1m Human Message \u001b[0m=================================\n",
      "\n",
      "Divide that by 5\n",
      "==================================\u001b[1m Ai Message \u001b[0m==================================\n",
      "\n",
      "I need the specific number you want to divide by 5. Please provide the value to divide.\n"
     ]
    }
   ],
   "source": [
    "messages=[HumanMessage(content=\"Divide that by 5\")]\n",
    "messages=graph.invoke({\"messages\":messages})\n",
    "for m in messages['messages']:\n",
    "    m.pretty_print()"
   ]
  },
  {
   "cell_type": "markdown",
   "id": "e3b0dc5b",
   "metadata": {},
   "source": [
    "#### MemorySaver\n",
    "LangGraph can use a checkpointer to automatically save the graph state after each step.\n",
    "\n",
    "This built-in persistence layer gives us memory, allowing LangGraph to pick up from the last state update.\n",
    "\n",
    "One of the easiest checkpointers to use is the MemorySaver, an in-memory key-value store for Graph state.\n",
    "\n",
    "All we need to do is simply compile the graph with a checkpointer, and our graph has memory!\n"
   ]
  },
  {
   "cell_type": "code",
   "execution_count": 19,
   "id": "3c956653",
   "metadata": {},
   "outputs": [],
   "source": [
    "from langchain_openai import ChatOpenAI\n",
    "llm=ChatOpenAI(model=\"gpt-4o\")\n",
    "llm_with_tools=llm.bind_tools(tools)"
   ]
  },
  {
   "cell_type": "code",
   "execution_count": 21,
   "id": "3f27cc7d",
   "metadata": {},
   "outputs": [
    {
     "data": {
      "text/plain": [
       "<langgraph.graph.state.StateGraph at 0x1e1037afe90>"
      ]
     },
     "execution_count": 21,
     "metadata": {},
     "output_type": "execute_result"
    }
   ],
   "source": [
    "### Entire chatbot with Langraph\n",
    "\n",
    "from IPython.display import Image ,display\n",
    "from langgraph.graph import StateGraph ,START ,END\n",
    "from langgraph.prebuilt import ToolNode\n",
    "from langgraph.prebuilt import tools_condition\n",
    "\n",
    "###Node defination\n",
    "\n",
    "def tool_calling_llm(state:State):\n",
    "    return {\"messages\":[llm_with_tools.invoke(state[\"messages\"])]}\n",
    "\n",
    "#Building graph\n",
    "builder=StateGraph(State)\n",
    "builder.add_node(\"tool_calling_llm\",tool_calling_llm)\n",
    "builder.add_node(\"tools\",ToolNode(tools))\n",
    "\n",
    "builder.add_edge(START ,\"tool_calling_llm\")\n",
    "builder.add_conditional_edges(\"tool_calling_llm\",tools_condition)\n",
    "\n",
    "builder.add_edge(\"tools\",\"tool_calling_llm\")\n",
    "builder.add_edge(\"tool_calling_llm\",END)\n",
    "\n"
   ]
  },
  {
   "cell_type": "code",
   "execution_count": 22,
   "id": "8aeef89e",
   "metadata": {},
   "outputs": [
    {
     "data": {
      "image/png": "[encoded data removed]",
      "text/plain": [
       "<IPython.core.display.Image object>"
      ]
     },
     "metadata": {},
     "output_type": "display_data"
    }
   ],
   "source": [
    "from langgraph.checkpoint.memory import MemorySaver\n",
    "memory=MemorySaver()\n",
    "\n",
    "graph_memory=builder.compile(checkpointer=memory)\n",
    "\n",
    "# View\n",
    "display(Image(graph_memory.get_graph().draw_mermaid_png()))"
   ]
  },
  {
   "cell_type": "code",
   "execution_count": 24,
   "id": "8fe803c1",
   "metadata": {},
   "outputs": [
    {
     "name": "stdout",
     "output_type": "stream",
     "text": [
      "================================\u001b[1m Human Message \u001b[0m=================================\n",
      "\n",
      "Add 12 and 13.\n",
      "==================================\u001b[1m Ai Message \u001b[0m==================================\n",
      "Tool Calls:\n",
      "  add (call_RlVQLRTLUjtVqeLwMcAt5kZU)\n",
      " Call ID: call_RlVQLRTLUjtVqeLwMcAt5kZU\n",
      "  Args:\n",
      "    a: 12\n",
      "    b: 13\n",
      "=================================\u001b[1m Tool Message \u001b[0m=================================\n",
      "Name: add\n",
      "\n",
      "25\n",
      "==================================\u001b[1m Ai Message \u001b[0m==================================\n",
      "\n",
      "The sum of 12 and 13 is 25.\n"
     ]
    }
   ],
   "source": [
    "## Specify the thread\n",
    "config={\"configurable\":{\"thread_id\":\"1\"}}\n",
    "messages = [HumanMessage(content=\"Add 12 and 13.\")]\n",
    "messages=graph_memory.invoke({\"messages\":messages},config=config)\n",
    "for m in messages[\"messages\"]:\n",
    "    m.pretty_print()"
   ]
  },
  {
   "cell_type": "code",
   "execution_count": 25,
   "id": "09608f0e",
   "metadata": {},
   "outputs": [
    {
     "name": "stdout",
     "output_type": "stream",
     "text": [
      "================================\u001b[1m Human Message \u001b[0m=================================\n",
      "\n",
      "Add 12 and 13.\n",
      "==================================\u001b[1m Ai Message \u001b[0m==================================\n",
      "Tool Calls:\n",
      "  add (call_RlVQLRTLUjtVqeLwMcAt5kZU)\n",
      " Call ID: call_RlVQLRTLUjtVqeLwMcAt5kZU\n",
      "  Args:\n",
      "    a: 12\n",
      "    b: 13\n",
      "=================================\u001b[1m Tool Message \u001b[0m=================================\n",
      "Name: add\n",
      "\n",
      "25\n",
      "==================================\u001b[1m Ai Message \u001b[0m==================================\n",
      "\n",
      "The sum of 12 and 13 is 25.\n",
      "================================\u001b[1m Human Message \u001b[0m=================================\n",
      "\n",
      "add that number to 25\n",
      "==================================\u001b[1m Ai Message \u001b[0m==================================\n",
      "Tool Calls:\n",
      "  add (call_c6Xamy3K2n4zGh4GVfPWhtUo)\n",
      " Call ID: call_c6Xamy3K2n4zGh4GVfPWhtUo\n",
      "  Args:\n",
      "    a: 25\n",
      "    b: 25\n",
      "=================================\u001b[1m Tool Message \u001b[0m=================================\n",
      "Name: add\n",
      "\n",
      "50\n",
      "==================================\u001b[1m Ai Message \u001b[0m==================================\n",
      "\n",
      "The sum of 25 and 25 is 50.\n"
     ]
    }
   ],
   "source": [
    "messages = [HumanMessage(content=\"add that number to 25\")]\n",
    "messages=graph_memory.invoke({\"messages\":messages},config=config)\n",
    "for m in messages['messages']:\n",
    "    m.pretty_print()"
   ]
  },
  {
   "cell_type": "code",
   "execution_count": 26,
   "id": "f979f8eb",
   "metadata": {},
   "outputs": [
    {
     "name": "stdout",
     "output_type": "stream",
     "text": [
      "================================\u001b[1m Human Message \u001b[0m=================================\n",
      "\n",
      "Add 12 and 13.\n",
      "==================================\u001b[1m Ai Message \u001b[0m==================================\n",
      "Tool Calls:\n",
      "  add (call_RlVQLRTLUjtVqeLwMcAt5kZU)\n",
      " Call ID: call_RlVQLRTLUjtVqeLwMcAt5kZU\n",
      "  Args:\n",
      "    a: 12\n",
      "    b: 13\n",
      "=================================\u001b[1m Tool Message \u001b[0m=================================\n",
      "Name: add\n",
      "\n",
      "25\n",
      "==================================\u001b[1m Ai Message \u001b[0m==================================\n",
      "\n",
      "The sum of 12 and 13 is 25.\n",
      "================================\u001b[1m Human Message \u001b[0m=================================\n",
      "\n",
      "add that number to 25\n",
      "==================================\u001b[1m Ai Message \u001b[0m==================================\n",
      "Tool Calls:\n",
      "  add (call_c6Xamy3K2n4zGh4GVfPWhtUo)\n",
      " Call ID: call_c6Xamy3K2n4zGh4GVfPWhtUo\n",
      "  Args:\n",
      "    a: 25\n",
      "    b: 25\n",
      "=================================\u001b[1m Tool Message \u001b[0m=================================\n",
      "Name: add\n",
      "\n",
      "50\n",
      "==================================\u001b[1m Ai Message \u001b[0m==================================\n",
      "\n",
      "The sum of 25 and 25 is 50.\n",
      "================================\u001b[1m Human Message \u001b[0m=================================\n",
      "\n",
      "then multiplty that number by 2\n",
      "==================================\u001b[1m Ai Message \u001b[0m==================================\n",
      "Tool Calls:\n",
      "  multiply (call_m8sAeEDJpRFzxRZx9hdsfHDy)\n",
      " Call ID: call_m8sAeEDJpRFzxRZx9hdsfHDy\n",
      "  Args:\n",
      "    a: 50\n",
      "    b: 2\n",
      "=================================\u001b[1m Tool Message \u001b[0m=================================\n",
      "Name: multiply\n",
      "\n",
      "100\n",
      "==================================\u001b[1m Ai Message \u001b[0m==================================\n",
      "\n",
      "Multiplying 50 by 2 gives 100.\n"
     ]
    }
   ],
   "source": [
    "messages = [HumanMessage(content=\"then multiplty that number by 2\")]\n",
    "messages=graph_memory.invoke({\"messages\":messages},config=config)\n",
    "for m in messages['messages']:\n",
    "    m.pretty_print()"
   ]
  },
  {
   "cell_type": "code",
   "execution_count": null,
   "id": "90f26aca",
   "metadata": {},
   "outputs": [],
   "source": []
  },
  {
   "cell_type": "code",
   "execution_count": null,
   "id": "e0ecd4ed",
   "metadata": {},
   "outputs": [],
   "source": []
  },
  {
   "cell_type": "code",
   "execution_count": null,
   "id": "a7a4e39c",
   "metadata": {},
   "outputs": [],
   "source": []
  },
  {
   "cell_type": "code",
   "execution_count": null,
   "id": "954355ea",
   "metadata": {},
   "outputs": [],
   "source": []
  },
  {
   "cell_type": "code",
   "execution_count": null,
   "id": "34754b91",
   "metadata": {},
   "outputs": [],
   "source": []
  },
  {
   "cell_type": "code",
   "execution_count": null,
   "id": "3d470afc",
   "metadata": {},
   "outputs": [],
   "source": []
  },
  {
   "cell_type": "code",
   "execution_count": null,
   "id": "0ebc5885",
   "metadata": {},
   "outputs": [],
   "source": []
  },
  {
   "cell_type": "code",
   "execution_count": null,
   "id": "63dd13ea",
   "metadata": {},
   "outputs": [],
   "source": []
  },
  {
   "cell_type": "code",
   "execution_count": null,
   "id": "f92b8083",
   "metadata": {},
   "outputs": [],
   "source": []
  }
 ],
 "metadata": {
  "kernelspec": {
   "display_name": "Python 3",
   "language": "python",
   "name": "python3"
  },
  "language_info": {
   "codemirror_mode": {
    "name": "ipython",
    "version": 3
   },
   "file_extension": ".py",
   "mimetype": "text/x-python",
   "name": "python",
   "nbconvert_exporter": "python",
   "pygments_lexer": "ipython3",
   "version": "3.12.0"
  }
 },
 "nbformat": 4,
 "nbformat_minor": 5
}
