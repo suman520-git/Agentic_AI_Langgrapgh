{
 "cells": [
  {
   "cell_type": "markdown",
   "id": "e8d411a5",
   "metadata": {},
   "source": [
    "#### What is Parallelization in LangGraph?\n",
    "In LangGraph, nodes typically execute in a sequence defined by edges, but when tasks don’t depend on each other’s outputs, you can run them in parallel. This is achieved by:\n",
    "- Defining multiple nodes that can operate independently.\n",
    "\n",
    "- Connecting them to a common starting point (e.g., START or another node).\n",
    "\n",
    "- Merging their outputs into a downstream node if needed.\n",
    "\n",
    "LangGraph handles this implicitly when nodes are independent and can leverage multi-threading or asynchronous execution under the hood, depending on the runtime environment (e.g., Python’s asyncio or a multi-threaded executor)."
   ]
  },
  {
   "cell_type": "code",
   "execution_count": 1,
   "id": "526a4a39",
   "metadata": {},
   "outputs": [
    {
     "data": {
      "text/plain": [
       "AIMessage(content='<think>\\nOkay, the user sent a simple \"Hello\". I should respond in a friendly and welcoming way. Maybe ask how they\\'re doing and offer help. Keep it open-ended so they feel comfortable to ask anything. Let me make sure the tone is warm and approachable.\\n</think>\\n\\nHello! How are you today? If you have any questions or need help with anything, feel free to ask. 😊', additional_kwargs={}, response_metadata={'token_usage': {'completion_tokens': 84, 'prompt_tokens': 9, 'total_tokens': 93, 'completion_time': 0.285043718, 'prompt_time': 0.000565151, 'queue_time': 6.1249704, 'total_time': 0.285608869}, 'model_name': 'qwen/qwen3-32b', 'system_fingerprint': 'fp_f17c2eb555', 'service_tier': 'on_demand', 'finish_reason': 'stop', 'logprobs': None}, id='run--c0f75b76-ff0a-47c6-8680-69c93428be31-0', usage_metadata={'input_tokens': 9, 'output_tokens': 84, 'total_tokens': 93})"
      ]
     },
     "execution_count": 1,
     "metadata": {},
     "output_type": "execute_result"
    }
   ],
   "source": [
    "import os\n",
    "from dotenv import load_dotenv\n",
    "load_dotenv()\n",
    "\n",
    "from langchain_groq import ChatGroq\n",
    "\n",
    "\n",
    "#os.environ[\"OPENAI_API_KEY\"]=os.getenv(\"OPENAI_API_KEY\")\n",
    "os.environ[\"GROQ_API_KEY\"]=os.getenv(\"GROQ_API_KEY\")\n",
    "\n",
    "\n",
    "llm=ChatGroq(model=\"qwen/qwen3-32b\")\n",
    "# llm = ChatOpenAI(model=\"gpt-4o\")\n",
    "result=llm.invoke(\"Hello\")\n",
    "result"
   ]
  },
  {
   "cell_type": "code",
   "execution_count": 3,
   "id": "e6acb9c4",
   "metadata": {},
   "outputs": [],
   "source": [
    "from typing_extensions import TypedDict\n",
    "from langgraph.graph import StateGraph, START, END\n",
    "from IPython.display import Image, display\n",
    "\n",
    "# Graph state\n",
    "class State(TypedDict):\n",
    "    topic: str\n",
    "    characters: str\n",
    "    settings: str\n",
    "    premises: str\n",
    "    story_intro: str"
   ]
  },
  {
   "cell_type": "code",
   "execution_count": 4,
   "id": "06be1bcc",
   "metadata": {},
   "outputs": [],
   "source": [
    "# Nodes\n",
    "def generate_characters(state: State):\n",
    "    \"\"\"Generate character descriptions\"\"\"\n",
    "    msg = llm.invoke(f\"Create two character names and brief traits for a story about {state['topic']}\")\n",
    "    return {\"characters\": msg.content}\n",
    "\n",
    "def generate_setting(state: State):\n",
    "    \"\"\"Generate a story setting\"\"\"\n",
    "    msg = llm.invoke(f\"Describe a vivid setting for a story about {state['topic']}\")\n",
    "    return {\"settings\": msg.content}\n",
    "\n",
    "def generate_premise(state: State):\n",
    "    \"\"\"Generate a story premise\"\"\"\n",
    "    msg = llm.invoke(f\"Write a one-sentence plot premise for a story about {state['topic']}\")\n",
    "    return {\"premises\": msg.content}\n",
    "\n",
    "def combine_elements(state: State):\n",
    "    \"\"\"Combine characters, setting, and premise into an intro\"\"\"\n",
    "    msg = llm.invoke(\n",
    "        f\"Write a short story introduction using these elements:\\n\"\n",
    "        f\"Characters: {state['characters']}\\n\"\n",
    "        f\"Setting: {state['settings']}\\n\"\n",
    "        f\"Premise: {state['premises']}\"\n",
    "    )\n",
    "    return {\"story_intro\": msg.content}"
   ]
  },
  {
   "cell_type": "code",
   "execution_count": 5,
   "id": "424819c3",
   "metadata": {},
   "outputs": [
    {
     "data": {
      "text/plain": [
       "<langgraph.graph.state.StateGraph at 0x1e5ba0d9d30>"
      ]
     },
     "execution_count": 5,
     "metadata": {},
     "output_type": "execute_result"
    }
   ],
   "source": [
    "# Build the graph\n",
    "graph = StateGraph(State)\n",
    "graph.add_node(\"character\", generate_characters)\n",
    "graph.add_node(\"setting\", generate_setting)\n",
    "graph.add_node(\"premise\", generate_premise)\n",
    "graph.add_node(\"combine\", combine_elements)"
   ]
  },
  {
   "cell_type": "code",
   "execution_count": 6,
   "id": "a5a699e1",
   "metadata": {},
   "outputs": [
    {
     "data": {
      "image/png": "[encoded data removed]",
      "text/plain": [
       "<IPython.core.display.Image object>"
      ]
     },
     "metadata": {},
     "output_type": "display_data"
    }
   ],
   "source": [
    "# Define edges (parallel execution from START)\n",
    "graph.add_edge(START, \"character\")\n",
    "graph.add_edge(START, \"setting\")\n",
    "graph.add_edge(START, \"premise\")\n",
    "graph.add_edge(\"character\", \"combine\")\n",
    "graph.add_edge(\"setting\", \"combine\")\n",
    "graph.add_edge(\"premise\", \"combine\")\n",
    "graph.add_edge(\"combine\", END)\n",
    "\n",
    "# Compile and run\n",
    "compiled_graph = graph.compile()\n",
    "graph_image = compiled_graph.get_graph().draw_mermaid_png()\n",
    "display(Image(graph_image))"
   ]
  },
  {
   "cell_type": "code",
   "execution_count": 7,
   "id": "bea40616",
   "metadata": {},
   "outputs": [
    {
     "name": "stdout",
     "output_type": "stream",
     "text": [
      "<think>\n",
      "Okay, so the user wants me to write a short story introduction based on the characters and setting they provided. Let me start by recalling the key elements. The characters are Dr. Elara Voss and Kael Draven. Elara is a guilt-ridden physicist trying to fix a mistake from her past using her Chronosynclast device. Kael is a time smuggler with a mysterious past and a broken watch. The setting is Chronopolis, a city where different time periods overlap.\n",
      "\n",
      "First, I need to set the scene. The city should feel chaotic, blending different eras. The Chrono Obelisk is central, so I should describe it as the heart of the city. Maybe start with a vivid image of the city to immerse the reader. Then introduce Elara and her mission. She's driven by guilt, so showing her determination and internal conflict would add depth. Kael enters the scene as a contrast—his roguish charm and self-serving nature. Their meeting should be tense but necessary, hinting at future conflict. \n",
      "\n",
      "I should weave in the setting details to show the time-travel elements: the market with anachronistic items, the unstable environment. Maybe use sensory details like sounds and smells to make it vivid. Need to establish the premise that altering time has consequences, which ties into their characters' motivations. End with a hook, like a time storm causing chaos, to set up the story's conflict. Make sure to keep the language engaging and concise, setting up their dynamic and the stakes involved.\n",
      "</think>\n",
      "\n",
      "The air in Chronopolis crackled with temporal static as Dr. Elara Voss adjusted the humming Chronosynclast, its copper coils casting an eerie blue glow across the cobblestones of the 15th-century district. Around her, a 19th-century airship hovered above a medieval marketplace where knights bartered with holographic tablets, and the scent of burnt sugar from a Victorian street vendor clashed with the metallic tang of a time storm brewing over the Chrono Obelisk. She’d tracked Kael Draven here—*of course* he’d chosen the Shattered Spire’s shadow for a rendezvous—his silhouette a smudge of defiance against the flickering ruins of a future war. When he appeared, grinning through the haze of a flickering temporal rift, his pocket watch ticking backward, Elara’s hands tightened on her device. “You don’t fix time, Doc,” he drawled, tossing a jagged shard of obsidian (perhaps a weapon from a timeline that never existed) onto a puddle that rippled like oil. “You just break it better.”\n"
     ]
    }
   ],
   "source": [
    "state = {\"topic\": \"time travel\"}\n",
    "result = compiled_graph.invoke(state)\n",
    "print(result[\"story_intro\"])"
   ]
  },
  {
   "cell_type": "markdown",
   "id": "0427755c",
   "metadata": {},
   "source": [
    "#### Key Benefits\n",
    "- Speed: Reduces total execution time by running tasks concurrently.\n",
    "\n",
    "- Scalability: Handles larger workflows efficiently.\n",
    "\n",
    "- Modularity: Keeps the graph structure clean and reusable.\n",
    "\n",
    "#### Key Takeaways\n",
    "- When to Parallelize: Use it for independent tasks (e.g., generating multiple outputs, checking separate inputs).\n",
    "\n",
    "- Merging: Downstream nodes can aggregate parallel results.\n",
    "\n",
    "- LangGraph Support: The framework naturally supports this by waiting for all required inputs before proceeding.\n",
    "\n"
   ]
  },
  {
   "cell_type": "code",
   "execution_count": null,
   "id": "6d3d8d8d",
   "metadata": {},
   "outputs": [],
   "source": []
  },
  {
   "cell_type": "code",
   "execution_count": null,
   "id": "2ae84a42",
   "metadata": {},
   "outputs": [],
   "source": []
  },
  {
   "cell_type": "code",
   "execution_count": null,
   "id": "5ac16113",
   "metadata": {},
   "outputs": [],
   "source": []
  },
  {
   "cell_type": "code",
   "execution_count": null,
   "id": "ad286dd0",
   "metadata": {},
   "outputs": [],
   "source": []
  },
  {
   "cell_type": "code",
   "execution_count": null,
   "id": "7553e60b",
   "metadata": {},
   "outputs": [],
   "source": []
  }
 ],
 "metadata": {
  "kernelspec": {
   "display_name": "Python 3",
   "language": "python",
   "name": "python3"
  },
  "language_info": {
   "codemirror_mode": {
    "name": "ipython",
    "version": 3
   },
   "file_extension": ".py",
   "mimetype": "text/x-python",
   "name": "python",
   "nbconvert_exporter": "python",
   "pygments_lexer": "ipython3",
   "version": "3.12.0"
  }
 },
 "nbformat": 4,
 "nbformat_minor": 5
}
